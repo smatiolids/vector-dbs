{
 "cells": [
  {
   "cell_type": "markdown",
   "id": "b6f080fb-551d-4d5e-9ff6-4da4b9643e9b",
   "metadata": {},
   "source": [
    "# Stargate Tool\n",
    "\n",
    "## A tool to bring data from Astra REST API.\n",
    "\n",
    "In this demo we will create a LangChain Tool to query Astra using its REST API.\n",
    "\n",
    "I will use data and structure from our Netflix Clone (https://github.com/DataStax-Examples/astra-netflix). \n",
    "\n",
    "I just had to create a new table with the PK being based on the Title column only."
   ]
  },
  {
   "cell_type": "code",
   "execution_count": 88,
   "id": "375b47ca-3bea-41ac-b77a-980323de825f",
   "metadata": {},
   "outputs": [
    {
     "data": {
      "text/plain": [
       "True"
      ]
     },
     "execution_count": 88,
     "metadata": {},
     "output_type": "execute_result"
    }
   ],
   "source": [
    "from dotenv import load_dotenv, find_dotenv\n",
    "import os\n",
    "load_dotenv(find_dotenv(), override=True)"
   ]
  },
  {
   "cell_type": "markdown",
   "id": "134e7646-6309-4137-9ce2-8a5975596bbe",
   "metadata": {},
   "source": [
    "# Loading Astra \n",
    "\n",
    "We will use the GraphQL to create the schema and load the data"
   ]
  },
  {
   "cell_type": "code",
   "execution_count": 96,
   "id": "1221d469-e407-4189-bd2d-280f48285411",
   "metadata": {},
   "outputs": [],
   "source": [
    "import requests\n",
    "\n",
    "def post_graphql_mutation(mutation_file_path, schema=False):\n",
    "    \n",
    "    with open(mutation_file_path, 'r') as file:\n",
    "        graphql_mutation = file.read()\n",
    "\n",
    "    payload = {\n",
    "        'query': graphql_mutation\n",
    "    }\n",
    "\n",
    "    endpoint_url = f\"https://{os.environ['STARGATE_DB_ID']}-{os.environ['STARGATE_DB_REGION']}.apps.astra.datastax.com/api/graphql\"\n",
    "    if schema:\n",
    "        endpoint_url += '-schema'\n",
    "    else:\n",
    "        endpoint_url += f\"/{os.environ['STARGATE_DB_KEYSPACE']}\"\n",
    "    headers = {\n",
    "        'Content-Type': 'application/json',\n",
    "        'x-cassandra-token': os.environ['STARGATE_DB_APPLICATION_TOKEN']\n",
    "    }\n",
    "\n",
    "    response = requests.post(endpoint_url, json=payload, headers=headers)\n",
    "\n",
    "    if response.status_code == 200:\n",
    "        return response.json()\n",
    "    else:\n",
    "        print(f\"Error {response.status_code}: {response.text}\")\n",
    "        response.raise_for_status()"
   ]
  },
  {
   "cell_type": "code",
   "execution_count": 91,
   "id": "90fa85b0-8508-46bf-9cad-65a1845121cb",
   "metadata": {},
   "outputs": [
    {
     "name": "stdout",
     "output_type": "stream",
     "text": [
      "{'data': {'movies_by_title': True}}\n"
     ]
    }
   ],
   "source": [
    "# Creating Table\n",
    "result = post_graphql_mutation(\"./movies_by_title_schema.gql\",True)\n",
    "print(result)"
   ]
  },
  {
   "cell_type": "code",
   "execution_count": 97,
   "id": "5c1b0073-98da-428f-b493-270cdcd4a61f",
   "metadata": {},
   "outputs": [
    {
     "name": "stdout",
     "output_type": "stream",
     "text": [
      "{'data': {'terminator2': {'value': {'title': 'Terminator 2'}}, 'inception': {'value': {'title': 'Inception'}}, 'prometheus': {'value': {'title': 'Prometheus'}}, 'aliens': {'value': {'title': 'Aliens'}}, 'bladeRunner': {'value': {'title': 'Blade Runner'}}, 'starTrek': {'value': {'title': 'Star Trek'}}, 'wonderWoman': {'value': {'title': 'Wonder Woman'}}, 'looper': {'value': {'title': 'Looper'}}, 'exMachina': {'value': {'title': 'Ex machina'}}, 'doctorStrange': {'value': {'title': 'Doctor Strange'}}, 'her': {'value': {'title': 'Her'}}, 'theMartian': {'value': {'title': 'The Martian'}}, 'deadpool': {'value': {'title': 'Deadpool'}}, 'upgrade': {'value': {'title': 'Upgrade'}}, 'okra': {'value': {'title': 'Okra'}}, 'xMen': {'value': {'title': 'X-men'}}, 'batmanBegins': {'value': {'title': 'Batman Begins'}}, 'ironMan': {'value': {'title': 'Iron Man'}}, 'kong': {'value': {'title': 'Kong: Skull Island'}}, 'aliens3': {'value': {'title': 'aliens 3'}}, 'avatar': {'value': {'title': 'Avatar'}}}}\n"
     ]
    }
   ],
   "source": [
    "# Inserting Data\n",
    "result = post_graphql_mutation(\"./movies_by_title_data.gql\")\n",
    "print(result)"
   ]
  },
  {
   "cell_type": "markdown",
   "id": "18cd1214-e05a-4297-b161-1bca3dd17ac3",
   "metadata": {},
   "source": [
    "# Creating the LangChain Tool"
   ]
  },
  {
   "cell_type": "code",
   "execution_count": 44,
   "id": "615da1f2-e9b1-4b9c-a0aa-b75d4b385c44",
   "metadata": {},
   "outputs": [],
   "source": [
    "from langchain import OpenAI \n",
    "from langchain.chat_models import ChatOpenAI\n",
    "from langchain.chains.conversation.memory import ConversationBufferWindowMemory"
   ]
  },
  {
   "cell_type": "code",
   "execution_count": 45,
   "id": "1fa95a3d-5471-40ed-addd-c900bcb5f102",
   "metadata": {},
   "outputs": [],
   "source": [
    "llm = ChatOpenAI(\n",
    "    temperature=0,\n",
    "    model_name='gpt-3.5-turbo'\n",
    ")"
   ]
  },
  {
   "cell_type": "code",
   "execution_count": 98,
   "id": "935ab4fd-e1fe-4004-9c97-612162b939f1",
   "metadata": {},
   "outputs": [],
   "source": [
    "import requests\n",
    "\n",
    "def stargate_get(table, pk):\n",
    "    \n",
    "    endpoint_url = f\"https://{os.environ['STARGATE_DB_ID']}-{os.environ['STARGATE_DB_REGION']}.apps.astra.datastax.com/api/rest/v2/keyspaces/{os.environ['STARGATE_DB_KEYSPACE']}/{table}/{'/'.join(pk)}\"\n",
    "    \n",
    "    headers = {\n",
    "        'x-cassandra-token': os.environ['STARGATE_DB_APPLICATION_TOKEN']\n",
    "    }\n",
    "    \n",
    "    response = requests.get(endpoint_url, headers = headers)\n",
    "    \n",
    "    res = response.json()\n",
    "    \n",
    "    if len(res['data']) > 0:\n",
    "        return res['data'][0]\n",
    "    else:\n",
    "        return {}\n",
    "    "
   ]
  },
  {
   "cell_type": "code",
   "execution_count": 75,
   "id": "50134766-ddf7-4e91-b61f-766ef81db225",
   "metadata": {},
   "outputs": [],
   "source": [
    "def get_movie(movie_title):\n",
    "    return stargate_get('movies_by_title',[movie_title])"
   ]
  },
  {
   "cell_type": "code",
   "execution_count": 76,
   "id": "3aa831cc-40b9-4dc5-9301-72dfc847ed5d",
   "metadata": {},
   "outputs": [
    {
     "name": "stdout",
     "output_type": "stream",
     "text": [
      "https://4dcd68d4-978d-45c6-a6b5-505416f98a61-us-east1.apps.astra.datastax.com/api/rest/v2/keyspaces/netflix1/movies_by_title/Inception\n"
     ]
    },
    {
     "data": {
      "text/plain": [
       "{'title': 'Inception',\n",
       " 'year': 2010,\n",
       " 'genre': 'Sci-Fi',\n",
       " 'duration': 121,\n",
       " 'synopsis': 'Cobb steals information from his targets by entering their dreams.',\n",
       " 'thumbnail': 'https://i.imgur.com/RPa4UdO.mp4'}"
      ]
     },
     "execution_count": 76,
     "metadata": {},
     "output_type": "execute_result"
    }
   ],
   "source": [
    "# Testing with a movie\n",
    "get_movie(\"Inception\")"
   ]
  },
  {
   "cell_type": "code",
   "execution_count": 77,
   "id": "077f53cc-bcf2-414c-8659-aadac068c0f0",
   "metadata": {},
   "outputs": [],
   "source": [
    "from langchain.tools import BaseTool, StructuredTool, Tool, tool\n",
    "\n",
    "Movie_tool = Tool(\n",
    "    name='Stargate Movie DB',\n",
    "    func= get_movie,\n",
    "    description=\"Useful when a movie information is requested\"\n",
    ")\n",
    "\n",
    "tools = [Movie_tool]"
   ]
  },
  {
   "cell_type": "code",
   "execution_count": 78,
   "id": "a31de55d-076f-4e88-bf8d-b277d237845e",
   "metadata": {},
   "outputs": [],
   "source": [
    "from langchain.agents import AgentType, initialize_agent\n",
    "\n",
    "agent = initialize_agent(\n",
    "    tools, llm, agent=AgentType.ZERO_SHOT_REACT_DESCRIPTION, verbose=True\n",
    ")"
   ]
  },
  {
   "cell_type": "code",
   "execution_count": 63,
   "id": "2ff8917b-1436-4a2b-8836-def3fc48506b",
   "metadata": {},
   "outputs": [
    {
     "name": "stdout",
     "output_type": "stream",
     "text": [
      "\n",
      "\n",
      "\u001b[1m> Entering new AgentExecutor chain...\u001b[0m\n",
      "\u001b[32;1m\u001b[1;3mI should use the Stargate Movie DB to find information about the movie Prometheus.\n",
      "Action: Stargate Movie DB\n",
      "Action Input: Prometheus\u001b[0mhttps://4dcd68d4-978d-45c6-a6b5-505416f98a61-us-east1.apps.astra.datastax.com/api/rest/v2/keyspaces/netflix1/movies_by_genre/Sci-Fi/2012/Prometheus\n",
      "\n",
      "Observation: \u001b[36;1m\u001b[1;3m{'genre': 'Sci-Fi', 'year': 2012, 'title': 'Prometheus', 'duration': 134, 'synopsis': \"After a clue to mankind's origins is discovered, explorers are sent to the darkest corner of the universe.\", 'thumbnail': 'https://i.imgur.com/L8k6Bau.mp4'}\u001b[0m\n",
      "Thought:\u001b[32;1m\u001b[1;3mI now know the final answer\n",
      "Final Answer: Prometheus is a Sci-Fi movie released in 2012. It has a duration of 134 minutes and the synopsis is \"After a clue to mankind's origins is discovered, explorers are sent to the darkest corner of the universe.\"\u001b[0m\n",
      "\n",
      "\u001b[1m> Finished chain.\u001b[0m\n"
     ]
    },
    {
     "data": {
      "text/plain": [
       "'Prometheus is a Sci-Fi movie released in 2012. It has a duration of 134 minutes and the synopsis is \"After a clue to mankind\\'s origins is discovered, explorers are sent to the darkest corner of the universe.\"'"
      ]
     },
     "execution_count": 63,
     "metadata": {},
     "output_type": "execute_result"
    }
   ],
   "source": [
    "agent.run(\n",
    "        \"What about the movie Prometheus\"\n",
    ")"
   ]
  },
  {
   "cell_type": "code",
   "execution_count": 67,
   "id": "5204a587-62e5-4128-a1d7-cec3d34f3689",
   "metadata": {},
   "outputs": [
    {
     "name": "stdout",
     "output_type": "stream",
     "text": [
      "\n",
      "\n",
      "\u001b[1m> Entering new AgentExecutor chain...\u001b[0m\n",
      "\u001b[32;1m\u001b[1;3mI should use the Stargate Movie DB to find the release date of Inception.\n",
      "Action: Stargate Movie DB\n",
      "Action Input: Inception\u001b[0mhttps://4dcd68d4-978d-45c6-a6b5-505416f98a61-us-east1.apps.astra.datastax.com/api/rest/v2/keyspaces/netflix1/movies_by_title/Inception\n",
      "\n",
      "Observation: \u001b[36;1m\u001b[1;3m{'title': 'Inception', 'year': 2010, 'genre': 'Sci-Fi', 'duration': 121, 'synopsis': 'Cobb steals information from his targets by entering their dreams.', 'thumbnail': 'https://i.imgur.com/RPa4UdO.mp4'}\u001b[0m\n",
      "Thought:\u001b[32;1m\u001b[1;3mThe release date of the movie Inception is 2010.\n",
      "Final Answer: 2010\u001b[0m\n",
      "\n",
      "\u001b[1m> Finished chain.\u001b[0m\n"
     ]
    },
    {
     "data": {
      "text/plain": [
       "'2010'"
      ]
     },
     "execution_count": 67,
     "metadata": {},
     "output_type": "execute_result"
    }
   ],
   "source": [
    "agent.run(\n",
    "        \"When was the movie Inception released?\"\n",
    ")"
   ]
  },
  {
   "cell_type": "code",
   "execution_count": null,
   "id": "cc8456fd-ec70-486f-804a-60a441b02b1a",
   "metadata": {},
   "outputs": [],
   "source": []
  }
 ],
 "metadata": {
  "kernelspec": {
   "display_name": "Python 3 (ipykernel)",
   "language": "python",
   "name": "python3"
  },
  "language_info": {
   "codemirror_mode": {
    "name": "ipython",
    "version": 3
   },
   "file_extension": ".py",
   "mimetype": "text/x-python",
   "name": "python",
   "nbconvert_exporter": "python",
   "pygments_lexer": "ipython3",
   "version": "3.9.4"
  }
 },
 "nbformat": 4,
 "nbformat_minor": 5
}
