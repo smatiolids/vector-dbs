{
 "cells": [
  {
   "cell_type": "code",
   "execution_count": 1,
   "id": "816e8aba-eff5-49be-9cc4-35ba0cc04627",
   "metadata": {},
   "outputs": [
    {
     "name": "stdout",
     "output_type": "stream",
     "text": [
      "Note: you may need to restart the kernel to use updated packages.\n"
     ]
    }
   ],
   "source": [
    "pip install weaviate-client -q"
   ]
  },
  {
   "cell_type": "code",
   "execution_count": 10,
   "id": "1f870d31-89e0-41ed-9b47-0532d6c7a321",
   "metadata": {},
   "outputs": [],
   "source": [
    "WEAVIATE_KEY=\"\"\n",
    "OPENAI_APIKEY=\"\""
   ]
  },
  {
   "cell_type": "code",
   "execution_count": 22,
   "id": "0f0c2488-91a1-4611-9ffb-f4307266ca6c",
   "metadata": {},
   "outputs": [
    {
     "data": {
      "text/plain": [
       "<weaviate.client.Client at 0x110a53280>"
      ]
     },
     "execution_count": 22,
     "metadata": {},
     "output_type": "execute_result"
    }
   ],
   "source": [
    "import weaviate\n",
    "\n",
    "auth_config = weaviate.AuthApiKey(api_key=WEAVIATE_KEY)\n",
    "\n",
    "client = weaviate.Client(\n",
    "      url=\"https://sm-sandbox-cx8g2wxo.weaviate.network\",\n",
    "      auth_client_secret=auth_config,\n",
    "      additional_headers = {\n",
    "        \"X-OpenAI-Api-Key\": OPENAI_APIKEY # Replace with your inference API key\n",
    "    }\n",
    ")\n",
    "\n",
    "client"
   ]
  },
  {
   "cell_type": "code",
   "execution_count": 18,
   "id": "1ba4ecba-36f7-4f20-8d6d-a678024fc98d",
   "metadata": {},
   "outputs": [],
   "source": [
    "client.schema.delete_class(\"Question\")"
   ]
  },
  {
   "cell_type": "code",
   "execution_count": 19,
   "id": "fca814d9-fc2d-4dfd-8bc7-b9d9013da9ae",
   "metadata": {},
   "outputs": [],
   "source": [
    "class_obj = {\n",
    "    \"class\": \"Question\",\n",
    "    \"vectorizer\": \"text2vec-openai\",  # If set to \"none\" you must always provide vectors yourself. Could be any other \"text2vec-*\" also.\n",
    "    \"moduleConfig\": {\n",
    "        \"text2vec-openai\": {},\n",
    "        \"generative-openai\": {}  # Ensure the `generative-openai` module is used for generative queries\n",
    "    }\n",
    "}\n",
    "\n",
    "client.schema.create_class(class_obj)"
   ]
  },
  {
   "cell_type": "code",
   "execution_count": 20,
   "id": "2846a548-12be-4c48-b043-d9c926f25692",
   "metadata": {},
   "outputs": [
    {
     "name": "stdout",
     "output_type": "stream",
     "text": [
      "{\n",
      "    \"classes\": [\n",
      "        {\n",
      "            \"class\": \"Question\",\n",
      "            \"invertedIndexConfig\": {\n",
      "                \"bm25\": {\n",
      "                    \"b\": 0.75,\n",
      "                    \"k1\": 1.2\n",
      "                },\n",
      "                \"cleanupIntervalSeconds\": 60,\n",
      "                \"stopwords\": {\n",
      "                    \"additions\": null,\n",
      "                    \"preset\": \"en\",\n",
      "                    \"removals\": null\n",
      "                }\n",
      "            },\n",
      "            \"moduleConfig\": {\n",
      "                \"generative-openai\": {},\n",
      "                \"text2vec-openai\": {\n",
      "                    \"model\": \"ada\",\n",
      "                    \"modelVersion\": \"002\",\n",
      "                    \"type\": \"text\",\n",
      "                    \"vectorizeClassName\": true\n",
      "                }\n",
      "            },\n",
      "            \"multiTenancyConfig\": {\n",
      "                \"enabled\": false\n",
      "            },\n",
      "            \"properties\": [],\n",
      "            \"replicationConfig\": {\n",
      "                \"factor\": 1\n",
      "            },\n",
      "            \"shardingConfig\": {\n",
      "                \"virtualPerPhysical\": 128,\n",
      "                \"desiredCount\": 1,\n",
      "                \"actualCount\": 1,\n",
      "                \"desiredVirtualCount\": 128,\n",
      "                \"actualVirtualCount\": 128,\n",
      "                \"key\": \"_id\",\n",
      "                \"strategy\": \"hash\",\n",
      "                \"function\": \"murmur3\"\n",
      "            },\n",
      "            \"vectorIndexConfig\": {\n",
      "                \"skip\": false,\n",
      "                \"cleanupIntervalSeconds\": 300,\n",
      "                \"maxConnections\": 64,\n",
      "                \"efConstruction\": 128,\n",
      "                \"ef\": -1,\n",
      "                \"dynamicEfMin\": 100,\n",
      "                \"dynamicEfMax\": 500,\n",
      "                \"dynamicEfFactor\": 8,\n",
      "                \"vectorCacheMaxObjects\": 1000000000000,\n",
      "                \"flatSearchCutoff\": 40000,\n",
      "                \"distance\": \"cosine\",\n",
      "                \"pq\": {\n",
      "                    \"enabled\": false,\n",
      "                    \"bitCompression\": false,\n",
      "                    \"segments\": 0,\n",
      "                    \"centroids\": 256,\n",
      "                    \"trainingLimit\": 100000,\n",
      "                    \"encoder\": {\n",
      "                        \"type\": \"kmeans\",\n",
      "                        \"distribution\": \"log-normal\"\n",
      "                    }\n",
      "                }\n",
      "            },\n",
      "            \"vectorIndexType\": \"hnsw\",\n",
      "            \"vectorizer\": \"text2vec-openai\"\n",
      "        }\n",
      "    ]\n",
      "}\n"
     ]
    }
   ],
   "source": [
    "# get the schema\n",
    "schema = client.schema.get()\n",
    "\n",
    "# print the schema\n",
    "print(json.dumps(schema, indent=4))"
   ]
  },
  {
   "cell_type": "code",
   "execution_count": 23,
   "id": "41d30d98-3b85-482d-af1e-619e12e28f70",
   "metadata": {},
   "outputs": [
    {
     "name": "stdout",
     "output_type": "stream",
     "text": [
      "importing question: 1\n",
      "importing question: 2\n",
      "importing question: 3\n",
      "importing question: 4\n",
      "importing question: 5\n",
      "importing question: 6\n",
      "importing question: 7\n",
      "importing question: 8\n",
      "importing question: 9\n",
      "importing question: 10\n"
     ]
    }
   ],
   "source": [
    "import requests, json\n",
    "resp = requests.get('https://raw.githubusercontent.com/weaviate-tutorials/quickstart/main/data/jeopardy_tiny.json')\n",
    "data = json.loads(resp.text)  # Load data\n",
    "\n",
    "client.batch.configure(batch_size=100)  # Configure batch\n",
    "with client.batch as batch:  # Initialize a batch process\n",
    "    for i, d in enumerate(data):  # Batch import data\n",
    "        print(f\"importing question: {i+1}\")\n",
    "        properties = {\n",
    "            \"answer\": d[\"Answer\"],\n",
    "            \"question\": d[\"Question\"],\n",
    "            \"category\": d[\"Category\"],\n",
    "        }\n",
    "        batch.add_data_object(\n",
    "            data_object=properties,\n",
    "            class_name=\"Question\"\n",
    "        )"
   ]
  },
  {
   "cell_type": "code",
   "execution_count": 24,
   "id": "ddaefc6a-45d1-40b2-bc37-1fe97612ba18",
   "metadata": {},
   "outputs": [
    {
     "name": "stdout",
     "output_type": "stream",
     "text": [
      "importing question: 1\n",
      "importing question: 2\n",
      "importing question: 3\n",
      "importing question: 4\n",
      "importing question: 5\n",
      "importing question: 6\n",
      "importing question: 7\n",
      "importing question: 8\n",
      "importing question: 9\n",
      "importing question: 10\n"
     ]
    }
   ],
   "source": [
    "import requests\n",
    "fname = \"jeopardy_tiny_with_vectors_all-OpenAI-ada-002.json\"  # This file includes pre-generated vectors\n",
    "url = f'https://raw.githubusercontent.com/weaviate-tutorials/quickstart/main/data/{fname}'\n",
    "resp = requests.get(url)\n",
    "data = json.loads(resp.text)  # Load data\n",
    "\n",
    "client.batch.configure(batch_size=100)  # Configure batch\n",
    "with client.batch as batch:  # Configure a batch process\n",
    "    for i, d in enumerate(data):  # Batch import all Questions\n",
    "        print(f\"importing question: {i+1}\")\n",
    "        properties = {\n",
    "            \"answer\": d[\"Answer\"],\n",
    "            \"question\": d[\"Question\"],\n",
    "            \"category\": d[\"Category\"],\n",
    "        }\n",
    "        batch.add_data_object(\n",
    "            data_object=properties,\n",
    "            class_name=\"Question\",\n",
    "            vector=d[\"vector\"]  # Add custom vector\n",
    "        )"
   ]
  },
  {
   "cell_type": "code",
   "execution_count": 27,
   "id": "79abc84a-da75-49c4-bb3d-26fb677f043c",
   "metadata": {},
   "outputs": [
    {
     "data": {
      "text/plain": [
       "{'data': {'Get': {'Question': [{'answer': 'Elephant',\n",
       "     'category': 'ANIMALS',\n",
       "     'question': \"It's the only living mammal in the order Proboseidea\"},\n",
       "    {'answer': 'the nose or snout',\n",
       "     'category': 'ANIMALS',\n",
       "     'question': 'The gavial looks very much like a crocodile except for this bodily feature'}]}}}"
      ]
     },
     "execution_count": 27,
     "metadata": {},
     "output_type": "execute_result"
    }
   ],
   "source": [
    "response = (\n",
    "    client.query\n",
    "    .get(\"Question\", [\"question\", \"answer\", \"category\"])\n",
    "    .with_near_text({\"concepts\": [\"biology\"]})\n",
    "    .with_where({\n",
    "        \"path\": [\"category\"],\n",
    "        \"operator\": \"Equal\",\n",
    "        \"valueText\": \"ANIMALS\"\n",
    "    })\n",
    "    .with_limit(2)\n",
    "    .do()\n",
    ")\n",
    "response"
   ]
  },
  {
   "cell_type": "code",
   "execution_count": 29,
   "id": "023828f3-c4a4-4b26-8ece-3cc00e21c759",
   "metadata": {},
   "outputs": [
    {
     "name": "stdout",
     "output_type": "stream",
     "text": [
      "{\n",
      "    \"data\": {\n",
      "        \"Get\": {\n",
      "            \"Question\": [\n",
      "                {\n",
      "                    \"_additional\": {\n",
      "                        \"generate\": {\n",
      "                            \"error\": null,\n",
      "                            \"singleResult\": \"An elephant is a really big animal with a long trunk, big ears, and a strong body. They are usually gray in color. Elephants are very smart and friendly. They live in places called forests and grasslands. They eat lots of plants and fruits. They use their long trunk to grab food and drink water. Elephants also use their trunk to say hello to other elephants by touching them gently. They have big ears that help them hear really well. Elephants are very strong and can carry heavy things with their trunk. They are also great swimmers and love to play in the water. Elephants are loved by many people because they are so amazing and special!\"\n",
      "                        }\n",
      "                    },\n",
      "                    \"answer\": \"Elephant\",\n",
      "                    \"category\": \"ANIMALS\",\n",
      "                    \"question\": \"It's the only living mammal in the order Proboseidea\"\n",
      "                },\n",
      "                {\n",
      "                    \"_additional\": {\n",
      "                        \"generate\": {\n",
      "                            \"error\": null,\n",
      "                            \"singleResult\": \"Well, imagine you have a little animal friend, like a dog or a pig. They have something special on their face called a nose or a snout. It's like a little tool that helps them smell things. \\n\\nYou know how you use your nose to smell yummy food or beautiful flowers? Animals use their noses too, but their noses are even better than ours! They can smell things that are very far away, even if they can't see them. \\n\\nThe nose or snout is usually a little bit wet, and that helps the animal smell things better. It's like a superpower! They can tell if something is tasty or if it's dangerous just by sniffing it. \\n\\nSome animals, like dogs, have a really good sense of smell. They can even find missing things or help people when they are in trouble. So, the nose or snout is like a special tool that helps animals explore the world around them and find out all sorts of interesting things just by sniffing!\"\n",
      "                        }\n",
      "                    },\n",
      "                    \"answer\": \"the nose or snout\",\n",
      "                    \"category\": \"ANIMALS\",\n",
      "                    \"question\": \"The gavial looks very much like a crocodile except for this bodily feature\"\n",
      "                }\n",
      "            ]\n",
      "        }\n",
      "    }\n",
      "}\n"
     ]
    }
   ],
   "source": [
    "response = (\n",
    "    client.query\n",
    "    .get(\"Question\", [\"question\", \"answer\", \"category\"])\n",
    "    .with_near_text({\"concepts\": [\"biology\"]})\n",
    "    .with_where({\n",
    "        \"path\": [\"category\"],\n",
    "        \"operator\": \"Equal\",\n",
    "        \"valueText\": \"ANIMALS\"\n",
    "    })\n",
    "    .with_generate(single_prompt=\"Explain {answer} as you might to a five-year-old.\")\n",
    "    .with_limit(2)\n",
    "    .do()\n",
    ")\n",
    "\n",
    "print(json.dumps(response, indent=4))"
   ]
  },
  {
   "cell_type": "code",
   "execution_count": 32,
   "id": "43837ff3-faf4-460a-a3a2-fb39346ecef1",
   "metadata": {},
   "outputs": [
    {
     "name": "stdout",
     "output_type": "stream",
     "text": [
      "\"🧬 Did you know? In 1953, Watson & Crick 🧪 built a model of the molecular structure of DNA, the gene-carrying substance! 🧬 #ScienceFacts\"\n",
      "{\n",
      "    \"data\": {\n",
      "        \"Get\": {\n",
      "            \"Question\": [\n",
      "                {\n",
      "                    \"_additional\": {\n",
      "                        \"generate\": {\n",
      "                            \"error\": null,\n",
      "                            \"groupedResult\": \"\\\"\\ud83e\\uddec Did you know? In 1953, Watson & Crick \\ud83e\\uddea built a model of the molecular structure of DNA, the gene-carrying substance! \\ud83e\\uddec #ScienceFacts\\\"\"\n",
      "                        }\n",
      "                    },\n",
      "                    \"answer\": \"DNA\",\n",
      "                    \"category\": \"SCIENCE\",\n",
      "                    \"question\": \"In 1953 Watson & Crick built a model of the molecular structure of this, the gene-carrying substance\"\n",
      "                },\n",
      "                {\n",
      "                    \"_additional\": {\n",
      "                        \"generate\": null\n",
      "                    },\n",
      "                    \"answer\": \"DNA\",\n",
      "                    \"category\": \"SCIENCE\",\n",
      "                    \"question\": \"In 1953 Watson & Crick built a model of the molecular structure of this, the gene-carrying substance\"\n",
      "                }\n",
      "            ]\n",
      "        }\n",
      "    }\n",
      "}\n"
     ]
    }
   ],
   "source": [
    "response = (\n",
    "    client.query\n",
    "    .get(\"Question\", [\"question\", \"answer\", \"category\"])\n",
    "    .with_near_text({\"concepts\": [\"biology\"]})\n",
    "    .with_generate(grouped_task=\"Write a tweet with emojis about these facts.\")\n",
    "    .with_limit(2)\n",
    "    .do()\n",
    ")\n",
    "\n",
    "print(response[\"data\"][\"Get\"][\"Question\"][0][\"_additional\"][\"generate\"][\"groupedResult\"])\n",
    "print(json.dumps(response, indent=4))"
   ]
  },
  {
   "cell_type": "code",
   "execution_count": 35,
   "id": "dffb8fb8-6fb2-47fa-99d4-9fbdf76762e8",
   "metadata": {},
   "outputs": [
    {
     "data": {
      "text/plain": [
       "'{Get{Question(where: {path: [\"category\"] operator: Equal valueText: \"ANIMALS\"} limit: 2 nearText: {concepts: [\"biology\"]} ){question answer category _additional {generate(singleResult:{prompt:\"Explain {answer} as you might to a five-year-old.\"}){error singleResult} }}}}'"
      ]
     },
     "execution_count": 35,
     "metadata": {},
     "output_type": "execute_result"
    }
   ],
   "source": [
    "q = client.query\\\n",
    "    .get(\"Question\", [\"question\", \"answer\", \"category\"])\\\n",
    "    .with_near_text({\"concepts\": [\"biology\"]})\\\n",
    "    .with_where({\\\n",
    "        \"path\": [\"category\"],\\\n",
    "        \"operator\": \"Equal\",\\\n",
    "        \"valueText\": \"ANIMALS\"\\\n",
    "    })\\\n",
    "    .with_generate(single_prompt=\"Explain {answer} as you might to a five-year-old.\")\\\n",
    "    .with_limit(2)\n",
    "\n",
    "q.build()\n"
   ]
  }
 ],
 "metadata": {
  "kernelspec": {
   "display_name": "Python 3 (ipykernel)",
   "language": "python",
   "name": "python3"
  },
  "language_info": {
   "codemirror_mode": {
    "name": "ipython",
    "version": 3
   },
   "file_extension": ".py",
   "mimetype": "text/x-python",
   "name": "python",
   "nbconvert_exporter": "python",
   "pygments_lexer": "ipython3",
   "version": "3.9.4"
  }
 },
 "nbformat": 4,
 "nbformat_minor": 5
}
