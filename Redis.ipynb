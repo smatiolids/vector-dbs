{
 "cells": [
  {
   "cell_type": "markdown",
   "id": "c338a373-e0c9-4b4c-8377-2c3fb6eca8fd",
   "metadata": {},
   "source": [
    "# Redis\n",
    "\n",
    "Notes:\n",
    "\n",
    "- Source notebook: https://github.com/RedisAI/vecsim-demo/blob/master/SemanticSearch1k.ipynb\n",
    "- Used Redis Cloud,\n",
    "- Available in Brazil region on AWS\n",
    "- Redis doesn't have the dot product metric, but has the inner product (ref: https://www.youtube.com/watch?v=WC9YW1ya31o)\n",
    "- Redis has HNSW and also FLAT. LAT index solves the KNN queries\n",
    "- It is possible to tune HNSW with additional parameters (need to check if this is possible with SAI) (https://redis.io/docs/interact/search-and-query/advanced-concepts/vectors/#hnsw)\n",
    "- I could load only 884 records with the free account"
   ]
  },
  {
   "cell_type": "code",
   "execution_count": 1,
   "id": "3ae1c540-2576-4105-b0e7-3bf0c6aac624",
   "metadata": {},
   "outputs": [
    {
     "name": "stdout",
     "output_type": "stream",
     "text": [
      "Note: you may need to restart the kernel to use updated packages.\n"
     ]
    }
   ],
   "source": [
    "pip install redis -q"
   ]
  },
  {
   "cell_type": "code",
   "execution_count": 1,
   "id": "74e1951a-73d3-4ff9-9144-4504ceb7c31f",
   "metadata": {},
   "outputs": [],
   "source": [
    "import random\n",
    "import numpy as np\n",
    "import pandas as pd\n",
    "import time\n",
    "from redis import Redis\n",
    "from redis.commands.search.field import VectorField\n",
    "from redis.commands.search.field import TextField\n",
    "from redis.commands.search.field import TagField\n",
    "from redis.commands.search.query import Query\n",
    "from redis.commands.search.result import Result\n",
    "\n",
    "class color:\n",
    "   PURPLE = '\\033[95m'\n",
    "   CYAN = '\\033[96m'\n",
    "   DARKCYAN = '\\033[36m'\n",
    "   BLUE = '\\033[94m'\n",
    "   GREEN = '\\033[92m'\n",
    "   YELLOW = '\\033[93m'\n",
    "   RED = '\\033[91m'\n",
    "   BOLD = '\\033[1m'\n",
    "   UNDERLINE = '\\033[4m'\n",
    "   END = '\\033[0m'"
   ]
  },
  {
   "cell_type": "code",
   "execution_count": 2,
   "id": "5135d3d8-ee45-43e3-a3a0-01fecec70fb4",
   "metadata": {},
   "outputs": [
    {
     "data": {
      "text/plain": [
       "True"
      ]
     },
     "execution_count": 2,
     "metadata": {},
     "output_type": "execute_result"
    }
   ],
   "source": [
    "from dotenv import load_dotenv\n",
    "import os\n",
    "load_dotenv(override=True)"
   ]
  },
  {
   "cell_type": "code",
   "execution_count": 3,
   "id": "89566e14-8ae3-47a6-acd7-61c6f750c5b3",
   "metadata": {},
   "outputs": [],
   "source": [
    "# Connect REDIS\n",
    "redis_conn = Redis(\n",
    "  host=os.environ[\"REDIS_HOST\"],\n",
    "  port=13679,\n",
    "  password=os.environ[\"REDIS_PASSWORD\"],)"
   ]
  },
  {
   "cell_type": "code",
   "execution_count": 4,
   "id": "0a25408c-ae82-4a8f-bf84-09fbde0f3f3e",
   "metadata": {},
   "outputs": [
    {
     "name": "stderr",
     "output_type": "stream",
     "text": [
      "/Users/samuel.matioli/.pyenv/versions/3.9.4/lib/python3.9/site-packages/tqdm/auto.py:21: TqdmWarning: IProgress not found. Please update jupyter and ipywidgets. See https://ipywidgets.readthedocs.io/en/stable/user_install.html\n",
      "  from .autonotebook import tqdm as notebook_tqdm\n"
     ]
    }
   ],
   "source": [
    "from sentence_transformers import SentenceTransformer\n",
    "model = SentenceTransformer('sentence-transformers/all-distilroberta-v1')"
   ]
  },
  {
   "cell_type": "code",
   "execution_count": 5,
   "id": "563c03d0-bcf3-42eb-ae54-9564bd050279",
   "metadata": {},
   "outputs": [],
   "source": [
    "# Load products\n",
    "NUMBER_PRODUCTS=1000\n",
    "\n",
    "#Load Product data and truncate long text fields\n",
    "all_prods_df = pd.read_csv(\"./data/products_data_sample.txt\")\n",
    "all_prods_df['primary_key'] = all_prods_df['item_id'] + '-' + all_prods_df['domain_name']\n",
    "all_prods_df['item_keywords'].replace('', np.nan, inplace=True)\n",
    "all_prods_df.dropna(subset=['item_keywords'], inplace=True)\n",
    "all_prods_df.reset_index(drop=True,inplace=True)\n",
    "\n",
    "#get the first 1000 products with non-empty item keywords\n",
    "product_metadata = all_prods_df.head(NUMBER_PRODUCTS).to_dict(orient='index')"
   ]
  },
  {
   "cell_type": "code",
   "execution_count": 6,
   "id": "80d92d17-f169-4aff-9d41-bb309011c5b4",
   "metadata": {},
   "outputs": [
    {
     "data": {
      "text/html": [
       "<div>\n",
       "<style scoped>\n",
       "    .dataframe tbody tr th:only-of-type {\n",
       "        vertical-align: middle;\n",
       "    }\n",
       "\n",
       "    .dataframe tbody tr th {\n",
       "        vertical-align: top;\n",
       "    }\n",
       "\n",
       "    .dataframe thead th {\n",
       "        text-align: right;\n",
       "    }\n",
       "</style>\n",
       "<table border=\"1\" class=\"dataframe\">\n",
       "  <thead>\n",
       "    <tr style=\"text-align: right;\">\n",
       "      <th></th>\n",
       "      <th>item_id</th>\n",
       "      <th>marketplace</th>\n",
       "      <th>country</th>\n",
       "      <th>main_image_id</th>\n",
       "      <th>domain_name</th>\n",
       "      <th>bullet_point</th>\n",
       "      <th>item_keywords</th>\n",
       "      <th>material</th>\n",
       "      <th>brand</th>\n",
       "      <th>color</th>\n",
       "      <th>item_name</th>\n",
       "      <th>model_name</th>\n",
       "      <th>model_number</th>\n",
       "      <th>product_type</th>\n",
       "      <th>primary_key</th>\n",
       "    </tr>\n",
       "  </thead>\n",
       "  <tbody>\n",
       "    <tr>\n",
       "      <th>0</th>\n",
       "      <td>B07T6RZ2CM</td>\n",
       "      <td>Amazon</td>\n",
       "      <td>IN</td>\n",
       "      <td>71dZhpsferL</td>\n",
       "      <td>amazon.in</td>\n",
       "      <td>3D Printed Hard Back Case Mobile Cover for Len...</td>\n",
       "      <td>mobile cover back cover mobile case phone case...</td>\n",
       "      <td>NaN</td>\n",
       "      <td>Amazon Brand - Solimo</td>\n",
       "      <td>Others</td>\n",
       "      <td>Amazon Brand - Solimo Designer Couples Sitting...</td>\n",
       "      <td>Lenovo K4 Note</td>\n",
       "      <td>gz8115-SL40423</td>\n",
       "      <td>CELLULAR_PHONE_CASE</td>\n",
       "      <td>B07T6RZ2CM-amazon.in</td>\n",
       "    </tr>\n",
       "    <tr>\n",
       "      <th>1</th>\n",
       "      <td>B07T2JY31Y</td>\n",
       "      <td>Amazon</td>\n",
       "      <td>IN</td>\n",
       "      <td>71vX7qIEAIL</td>\n",
       "      <td>amazon.in</td>\n",
       "      <td>3D Printed Hard Back Case Mobile Cover for Son...</td>\n",
       "      <td>mobile cover back cover mobile case phone case...</td>\n",
       "      <td>Wood</td>\n",
       "      <td>Amazon Brand - Solimo</td>\n",
       "      <td>others</td>\n",
       "      <td>Amazon Brand - Solimo Designer Leaf on Wood 3D...</td>\n",
       "      <td>Sony Xperia Z1 L39H</td>\n",
       "      <td>gz8056-SL40528</td>\n",
       "      <td>CELLULAR_PHONE_CASE</td>\n",
       "      <td>B07T2JY31Y-amazon.in</td>\n",
       "    </tr>\n",
       "    <tr>\n",
       "      <th>2</th>\n",
       "      <td>B0849YGSCZ</td>\n",
       "      <td>Amazon</td>\n",
       "      <td>AE</td>\n",
       "      <td>A1EZF-2mB5L</td>\n",
       "      <td>amazon.ae</td>\n",
       "      <td>NaN</td>\n",
       "      <td>small de fur rooms navidad woven girls shag pa...</td>\n",
       "      <td>NaN</td>\n",
       "      <td>Stone &amp; Beam</td>\n",
       "      <td>NaN</td>\n",
       "      <td>Stone &amp; Beam Contemporary Doily Wool Farmhouse...</td>\n",
       "      <td>NaN</td>\n",
       "      <td>I59I8044IVYGRYC00-Parent</td>\n",
       "      <td>HOME_FURNITURE_AND_DECOR</td>\n",
       "      <td>B0849YGSCZ-amazon.ae</td>\n",
       "    </tr>\n",
       "    <tr>\n",
       "      <th>3</th>\n",
       "      <td>B081K6TCML</td>\n",
       "      <td>Amazon</td>\n",
       "      <td>IN</td>\n",
       "      <td>81o9EyZ-fAL</td>\n",
       "      <td>amazon.in</td>\n",
       "      <td>Solimo Plastic Multipurpose Modular Drawer; sm...</td>\n",
       "      <td>drawer modular drawer 3 rack modular drawer ki...</td>\n",
       "      <td>Plastic</td>\n",
       "      <td>Amazon Brand - Solimo</td>\n",
       "      <td>Multicolor</td>\n",
       "      <td>Amazon Brand - Solimo Plastic Multipurpose Mod...</td>\n",
       "      <td>NaN</td>\n",
       "      <td>sol_cujo_13</td>\n",
       "      <td>HOME</td>\n",
       "      <td>B081K6TCML-amazon.in</td>\n",
       "    </tr>\n",
       "    <tr>\n",
       "      <th>4</th>\n",
       "      <td>B0854774X5</td>\n",
       "      <td>Amazon</td>\n",
       "      <td>IN</td>\n",
       "      <td>81xaJCVnl3L</td>\n",
       "      <td>amazon.in</td>\n",
       "      <td>Snug fit for Nokia 8.1, with perfect cut-outs ...</td>\n",
       "      <td>Back Cover Designer Case Designer Take It Easy...</td>\n",
       "      <td>Silicon</td>\n",
       "      <td>Amazon Brand - Solimo</td>\n",
       "      <td>Multicolor</td>\n",
       "      <td>Amazon Brand - Solimo Designer Take It Easy UV...</td>\n",
       "      <td>Nokia 8.1</td>\n",
       "      <td>UV10714-SL40617</td>\n",
       "      <td>CELLULAR_PHONE_CASE</td>\n",
       "      <td>B0854774X5-amazon.in</td>\n",
       "    </tr>\n",
       "  </tbody>\n",
       "</table>\n",
       "</div>"
      ],
      "text/plain": [
       "      item_id marketplace country main_image_id domain_name  \\\n",
       "0  B07T6RZ2CM      Amazon      IN   71dZhpsferL   amazon.in   \n",
       "1  B07T2JY31Y      Amazon      IN   71vX7qIEAIL   amazon.in   \n",
       "2  B0849YGSCZ      Amazon      AE   A1EZF-2mB5L   amazon.ae   \n",
       "3  B081K6TCML      Amazon      IN   81o9EyZ-fAL   amazon.in   \n",
       "4  B0854774X5      Amazon      IN   81xaJCVnl3L   amazon.in   \n",
       "\n",
       "                                        bullet_point  \\\n",
       "0  3D Printed Hard Back Case Mobile Cover for Len...   \n",
       "1  3D Printed Hard Back Case Mobile Cover for Son...   \n",
       "2                                                NaN   \n",
       "3  Solimo Plastic Multipurpose Modular Drawer; sm...   \n",
       "4  Snug fit for Nokia 8.1, with perfect cut-outs ...   \n",
       "\n",
       "                                       item_keywords material  \\\n",
       "0  mobile cover back cover mobile case phone case...      NaN   \n",
       "1  mobile cover back cover mobile case phone case...     Wood   \n",
       "2  small de fur rooms navidad woven girls shag pa...      NaN   \n",
       "3  drawer modular drawer 3 rack modular drawer ki...  Plastic   \n",
       "4  Back Cover Designer Case Designer Take It Easy...  Silicon   \n",
       "\n",
       "                   brand       color  \\\n",
       "0  Amazon Brand - Solimo      Others   \n",
       "1  Amazon Brand - Solimo      others   \n",
       "2           Stone & Beam         NaN   \n",
       "3  Amazon Brand - Solimo  Multicolor   \n",
       "4  Amazon Brand - Solimo  Multicolor   \n",
       "\n",
       "                                           item_name           model_name  \\\n",
       "0  Amazon Brand - Solimo Designer Couples Sitting...       Lenovo K4 Note   \n",
       "1  Amazon Brand - Solimo Designer Leaf on Wood 3D...  Sony Xperia Z1 L39H   \n",
       "2  Stone & Beam Contemporary Doily Wool Farmhouse...                  NaN   \n",
       "3  Amazon Brand - Solimo Plastic Multipurpose Mod...                  NaN   \n",
       "4  Amazon Brand - Solimo Designer Take It Easy UV...            Nokia 8.1   \n",
       "\n",
       "               model_number              product_type           primary_key  \n",
       "0            gz8115-SL40423       CELLULAR_PHONE_CASE  B07T6RZ2CM-amazon.in  \n",
       "1            gz8056-SL40528       CELLULAR_PHONE_CASE  B07T2JY31Y-amazon.in  \n",
       "2  I59I8044IVYGRYC00-Parent  HOME_FURNITURE_AND_DECOR  B0849YGSCZ-amazon.ae  \n",
       "3               sol_cujo_13                      HOME  B081K6TCML-amazon.in  \n",
       "4           UV10714-SL40617       CELLULAR_PHONE_CASE  B0854774X5-amazon.in  "
      ]
     },
     "execution_count": 6,
     "metadata": {},
     "output_type": "execute_result"
    }
   ],
   "source": [
    "all_prods_df.head()\n"
   ]
  },
  {
   "cell_type": "code",
   "execution_count": 8,
   "id": "2ac36c62-a05b-43c4-afdf-6872ef88251e",
   "metadata": {},
   "outputs": [
    {
     "name": "stdout",
     "output_type": "stream",
     "text": [
      "CPU times: user 1min 39s, sys: 22.4 s, total: 2min 1s\n",
      "Wall time: 41.3 s\n"
     ]
    }
   ],
   "source": [
    "%%time\n",
    "# Generating embeddings\n",
    "\n",
    "item_keywords =  [product_metadata[i]['item_keywords']  for i in product_metadata.keys()]\n",
    "item_keywords_vectors = [ model.encode(sentence) for sentence in item_keywords]"
   ]
  },
  {
   "cell_type": "code",
   "execution_count": 9,
   "id": "cb4ec5d4-dc85-4633-a833-f81cb169c0c7",
   "metadata": {},
   "outputs": [
    {
     "name": "stdout",
     "output_type": "stream",
     "text": [
      "Len item_keywords_vectors: 731 \n",
      "Len product_metadata: 731 \n"
     ]
    },
    {
     "data": {
      "text/plain": [
       "{'item_id': 'B07T6RZ2CM',\n",
       " 'marketplace': 'Amazon',\n",
       " 'country': 'IN',\n",
       " 'main_image_id': '71dZhpsferL',\n",
       " 'domain_name': 'amazon.in',\n",
       " 'bullet_point': '3D Printed Hard Back Case Mobile Cover for Lenovo K4 Note Easy to put & take off with perfect cutouts for volume buttons, audio & charging ports. Stylish design and appearance, express your unique personality. Extreme precision design allows easy access to all buttons and ports while featuring raised bezel to life screen and camera off flat surface. Slim Hard Back Cover No Warranty None',\n",
       " 'item_keywords': 'mobile cover back cover mobile case phone case mobile panel phone panel Lenovo mobile case Lenovo phone cover Lenovo back case hard case 3D printed mobile cover mobile cover back cover mobile case phone case mobile panel phone panel Lenovo mobile case Lenovo phone cover Lenovo back case hard case 3D printed mobile cover mobile cover back cover mobile case phone case mobile panel phone panel Lenovo mobile case Lenovo phone cover Lenovo back case hard case 3D printed mobile cover mobile cover back cover mobile case phone case mobile panel phone panel Lenovo mobile case Lenovo phone cover Lenovo back case hard case 3D printed mobile cover mobile cover back cover mobile case phone case mobile panel phone panel Lenovo mobile case Lenovo phone cover Lenovo back case hard case 3D printed mobile cover mobile cover back cover mobile case phone case mobile panel phone panel Lenovo mobile case Lenovo phone cover Lenovo back case hard case 3D printed mobile cover mobile cover back cover mobile case phone case mobile panel phone panel Lenovo mobile case Lenovo phone cover Lenovo back case hard case 3D printed mobile cover mobile cover back cover mobile case phone case mobile panel phone panel Lenovo mobile case Lenovo phone cover Lenovo back case hard case 3D printed mobile cover mobile cover back cover mobile case phone case mobile panel phone panel Lenovo mobile case Lenovo phone cover Lenovo back case hard case 3D printed mobile cover mobile cover back cover mobile case phone case mobile panel phone panel Lenovo mobile case Lenovo phone cover Lenovo back case hard case 3D printed mobile cover mobile cover back cover mobile case phone case mobile panel phone panel Lenovo mobile case Lenovo phone cover Lenovo back case hard case 3D printed mobile cover mobile cover back cover mobile case phone case mobile panel phone panel Lenovo mobile case Lenovo phone cover Lenovo back case hard case 3D printed mobile cover mobile cover back cover mobile case phone case mobile panel phone panel Lenovo mobile case Lenovo phone cover Lenovo back case hard case 3D printed mobile cover mobile cover back cover mobile case phone case mobile panel phone panel Lenovo mobile case Lenovo phone cover Lenovo back case hard case 3D printed mobile cover mobile cover back cover mobile case phone case mobile panel phone panel Lenovo mobile case Lenovo phone cover Lenovo back case hard case 3D printed mobile cover',\n",
       " 'material': nan,\n",
       " 'brand': 'Amazon Brand - Solimo',\n",
       " 'color': 'Others',\n",
       " 'item_name': 'Amazon Brand - Solimo Designer Couples Sitting at Dark 3D Printed Hard Back Case Mobile Cover for Lenovo K4 Note',\n",
       " 'model_name': 'Lenovo K4 Note',\n",
       " 'model_number': 'gz8115-SL40423',\n",
       " 'product_type': 'CELLULAR_PHONE_CASE',\n",
       " 'primary_key': 'B07T6RZ2CM-amazon.in'}"
      ]
     },
     "execution_count": 9,
     "metadata": {},
     "output_type": "execute_result"
    }
   ],
   "source": [
    "print(f\"\"\"Len item_keywords_vectors: {len(item_keywords_vectors)} \"\"\")\n",
    "print(f\"\"\"Len product_metadata: {len(product_metadata)} \"\"\")\n",
    "product_metadata[0]"
   ]
  },
  {
   "cell_type": "code",
   "execution_count": 10,
   "id": "5f6430a9-b143-442e-99b7-db16e698e311",
   "metadata": {},
   "outputs": [],
   "source": [
    "def load_vectors(client:Redis, product_metadata, vector_dict, vector_field_name):\n",
    "    p = client.pipeline(transaction=False)\n",
    "    for index in product_metadata.keys():    \n",
    "        #hash key\n",
    "        key='product:'+ str(index)+ ':' + product_metadata[index]['primary_key']\n",
    "        \n",
    "        #hash values\n",
    "        item_metadata = product_metadata[index]\n",
    "        item_keywords_vector = vector_dict[index].astype(np.float32).tobytes()\n",
    "        item_metadata[vector_field_name]=item_keywords_vector\n",
    "        \n",
    "        # HSET\n",
    "        p.hset(key,mapping=item_metadata)\n",
    "            \n",
    "    p.execute()"
   ]
  },
  {
   "cell_type": "code",
   "execution_count": 11,
   "id": "28e965a4-cb33-4391-9592-4ae8626c1587",
   "metadata": {},
   "outputs": [],
   "source": [
    "def create_flat_index (redis_conn,vector_field_name,number_of_vectors, vector_dimensions=512, distance_metric='L2'):\n",
    "    redis_conn.ft().create_index([\n",
    "        VectorField(vector_field_name, \"FLAT\", {\"TYPE\": \"FLOAT32\", \"DIM\": vector_dimensions, \"DISTANCE_METRIC\": distance_metric, \"INITIAL_CAP\": number_of_vectors, \"BLOCK_SIZE\":number_of_vectors }),\n",
    "        TagField(\"product_type\"),\n",
    "        TextField(\"item_name\"),\n",
    "        TextField(\"item_keywords\"),\n",
    "        TagField(\"country\")        \n",
    "    ])\n",
    "\n",
    "def create_hnsw_index (redis_conn,vector_field_name,number_of_vectors, vector_dimensions=512, distance_metric='L2',M=40,EF=200):\n",
    "    redis_conn.ft().create_index([\n",
    "        VectorField(vector_field_name, \"HNSW\", {\"TYPE\": \"FLOAT32\", \"DIM\": vector_dimensions, \"DISTANCE_METRIC\": distance_metric, \"INITIAL_CAP\": number_of_vectors, \"M\": M, \"EF_CONSTRUCTION\": EF}),\n",
    "        TagField(\"product_type\"),\n",
    "        TextField(\"item_keywords\"),        \n",
    "        TextField(\"item_name\"),\n",
    "        TagField(\"country\")     \n",
    "    ]) "
   ]
  },
  {
   "cell_type": "code",
   "execution_count": 23,
   "id": "d8c578fa-fe0c-4ce2-a079-a221e7867e88",
   "metadata": {},
   "outputs": [
    {
     "name": "stdout",
     "output_type": "stream",
     "text": [
      "Loading and Indexing + 1000 products\n",
      "CPU times: user 93.5 ms, sys: 43.1 ms, total: 137 ms\n",
      "Wall time: 7.38 s\n"
     ]
    }
   ],
   "source": [
    "%%time\n",
    "\n",
    "ITEM_KEYWORD_EMBEDDING_FIELD_KNN='item_keyword_vector_knn'\n",
    "TEXT_EMBEDDING_DIMENSION=768\n",
    "NUMBER_PRODUCTS=1000\n",
    "\n",
    "print ('Loading and Indexing + ' +  str(NUMBER_PRODUCTS) + ' products')\n",
    "\n",
    "#flush all data\n",
    "redis_conn.flushall()\n",
    "\n",
    "#create flat index & load vectors\n",
    "create_flat_index(redis_conn, ITEM_KEYWORD_EMBEDDING_FIELD_KNN,NUMBER_PRODUCTS,TEXT_EMBEDDING_DIMENSION,'COSINE')\n",
    "load_vectors(redis_conn,product_metadata,item_keywords_vectors,ITEM_KEYWORD_EMBEDDING_FIELD_KNN)"
   ]
  },
  {
   "cell_type": "code",
   "execution_count": 24,
   "id": "1e6af251-6166-4277-8cf9-6e524008b346",
   "metadata": {},
   "outputs": [
    {
     "name": "stdout",
     "output_type": "stream",
     "text": [
      "*************** Product found ************\n",
      "\u001b[1mhash key = \u001b[0mproduct:558:B07T7KMCSD-amazon.in\n",
      "\u001b[93mItem Name = \u001b[0mAmazon Brand - Solimo Designer Wooden Door 3D Printed Hard Back Case Mobile Cover for Microsoft Lumia 650\n",
      "\u001b[93mItem Id = \u001b[0mB07T7KMCSD\n",
      "\u001b[93mItem keywords = \u001b[0mmobile cover back cover mobile case phone case mobile panel phone panel hard case 3D printed mobile cover mobile cover back cover mobile case phone case mobile panel phone panel Microsoft Lumia mobile case Microsoft Lumia phone cover Microsoft Lumia back case hard case 3D printed mobile cover mobile cover back cover mobile case phone case mobile panel phone panel Microsoft Lumia mobile case Microsoft Lumia phone cover Microsoft Lumia back case hard case 3D printed mobile cover mobile cover back cover mobile case phone case mobile panel phone panel Microsoft Lumia mobile case Microsoft Lumia phone cover Microsoft Lumia back case hard case 3D printed mobile cover mobile cover back cover mobile case phone case mobile panel phone panel Microsoft Lumia mobile case Microsoft Lumia phone cover Microsoft Lumia back case hard case 3D printed mobile cover mobile cover back cover mobile case phone case mobile panel phone panel Microsoft Lumia mobile case Microsoft Lumia phone cover Microsoft Lumia back case hard case 3D printed mobile cover mobile cover back cover mobile case phone case mobile panel phone panel Microsoft Lumia mobile case Microsoft Lumia phone cover Microsoft Lumia back case hard case 3D printed mobile cover mobile cover back cover mobile case phone case mobile panel phone panel Microsoft Lumia mobile case Microsoft Lumia phone cover Microsoft Lumia back case hard case 3D printed mobile cover mobile cover back cover mobile case phone case mobile panel phone panel Microsoft Lumia mobile case Microsoft Lumia phone cover Microsoft Lumia back case hard case 3D printed mobile cover mobile cover back cover mobile case phone case mobile panel phone panel Microsoft Lumia mobile case Microsoft Lumia phone cover Microsoft Lumia back case hard case 3D printed mobile cover mobile cover back cover mobile case phone case mobile panel phone panel Microsoft Lumia mobile case Microsoft Lumia phone cover Microsoft Lumia back case hard case 3D printed mobile cover mobile cover back cover mobile case phone case mobile panel phone panel Microsoft Lumia mobile case Microsoft Lumia phone cover Microsoft Lumia back case hard case 3D printed mobile cover mobile cover back cover mobile case phone case mobile panel phone panel Microsoft Lumia mobile case Microsoft Lumia phone cover Microsoft Lumia back case hard case 3D printed mobile cover mobile cover back cover mobile case phone case mobile panel phone panel Microsoft Lumia mobile case Microsoft Lumia phone cover Microsoft Lumia back case hard case 3D printed mobile cover mobile cover back cover mobile case phone case mobile panel phone panel Microsoft Lumia mobile case Microsoft Lumia phone cover Microsoft Lumia back case hard case 3D printed mobile cover\n",
      "\u001b[93mScore = \u001b[0m0.641375482082\n",
      "*************** Product found ************\n",
      "\u001b[1mhash key = \u001b[0mproduct:184:B07T22MZ3Y-amazon.in\n",
      "\u001b[93mItem Name = \u001b[0mAmazon Brand - Solimo Designer Pink Color Fall 3D Printed Hard Back Case Mobile Cover for Motorola Moto G 2nd Generation\n",
      "\u001b[93mItem Id = \u001b[0mB07T22MZ3Y\n",
      "\u001b[93mItem keywords = \u001b[0mmobile cover back cover mobile case phone case mobile panel phone panel Sony Xperia mobile case Sony Xperia phone cover Sony Xperia back case hard case 3D printed mobile cover mobile cover back cover mobile case phone case mobile panel phone panel Motorola mobile case Motorola phone cover Motorola back case mobile cover back cover mobile case phone case mobile panel phone panel Motorola mobile case Motorola phone cover Motorola back case mobile cover back cover mobile case phone case mobile panel phone panel Motorola mobile case Motorola phone cover Motorola back case mobile cover back cover mobile case phone case mobile panel phone panel Motorola mobile case Motorola phone cover Motorola back case mobile cover back cover mobile case phone case mobile panel phone panel Motorola mobile case Motorola phone cover Motorola back case mobile cover back cover mobile case phone case mobile panel phone panel Motorola mobile case Motorola phone cover Motorola back case mobile cover back cover mobile case phone case mobile panel phone panel Motorola mobile case Motorola phone cover Motorola back case mobile cover back cover mobile case phone case mobile panel phone panel Motorola mobile case Motorola phone cover Motorola back case mobile cover back cover mobile case phone case mobile panel phone panel Motorola mobile case Motorola phone cover Motorola back case mobile cover back cover mobile case phone case mobile panel phone panel Motorola mobile case Motorola phone cover Motorola back case mobile cover back cover mobile case phone case mobile panel phone panel Motorola mobile case Motorola phone cover Motorola back case mobile cover back cover mobile case phone case mobile panel phone panel Motorola mobile case Motorola phone cover Motorola back case mobile cover back cover mobile case phone case mobile panel phone panel Motorola mobile case Motorola phone cover Motorola back case mobile cover back cover mobile case phone case mobile panel phone panel Motorola mobile case Motorola phone cover Motorola back case\n",
      "\u001b[93mScore = \u001b[0m0.646299540997\n",
      "*************** Product found ************\n",
      "\u001b[1mhash key = \u001b[0mproduct:434:B07SYYV6WH-amazon.in\n",
      "\u001b[93mItem Name = \u001b[0mAmazon Brand - Solimo Designer Couples Standing in Rain 3D Printed Hard Back Case Mobile Cover for Motorola Moto G 2nd Generation\n",
      "\u001b[93mItem Id = \u001b[0mB07SYYV6WH\n",
      "\u001b[93mItem keywords = \u001b[0mmobile cover back cover mobile case phone case mobile panel phone panel Sony Xperia mobile case Sony Xperia phone cover Sony Xperia back case hard case 3D printed mobile cover mobile cover back cover mobile case phone case mobile panel phone panel Motorola mobile case Motorola phone cover Motorola back case mobile cover back cover mobile case phone case mobile panel phone panel Motorola mobile case Motorola phone cover Motorola back case mobile cover back cover mobile case phone case mobile panel phone panel Motorola mobile case Motorola phone cover Motorola back case mobile cover back cover mobile case phone case mobile panel phone panel Motorola mobile case Motorola phone cover Motorola back case mobile cover back cover mobile case phone case mobile panel phone panel Motorola mobile case Motorola phone cover Motorola back case mobile cover back cover mobile case phone case mobile panel phone panel Motorola mobile case Motorola phone cover Motorola back case mobile cover back cover mobile case phone case mobile panel phone panel Motorola mobile case Motorola phone cover Motorola back case mobile cover back cover mobile case phone case mobile panel phone panel Motorola mobile case Motorola phone cover Motorola back case mobile cover back cover mobile case phone case mobile panel phone panel Motorola mobile case Motorola phone cover Motorola back case mobile cover back cover mobile case phone case mobile panel phone panel Motorola mobile case Motorola phone cover Motorola back case mobile cover back cover mobile case phone case mobile panel phone panel Motorola mobile case Motorola phone cover Motorola back case mobile cover back cover mobile case phone case mobile panel phone panel Motorola mobile case Motorola phone cover Motorola back case mobile cover back cover mobile case phone case mobile panel phone panel Motorola mobile case Motorola phone cover Motorola back case mobile cover back cover mobile case phone case mobile panel phone panel Motorola mobile case Motorola phone cover Motorola back case\n",
      "\u001b[93mScore = \u001b[0m0.646299540997\n",
      "*************** Product found ************\n",
      "\u001b[1mhash key = \u001b[0mproduct:137:B07T9TMQQ3-amazon.in\n",
      "\u001b[93mItem Name = \u001b[0mAmazon Brand - Solimo Designer Color Spread 3D Printed Hard Back Case Mobile Cover for Nokia 2.1\n",
      "\u001b[93mItem Id = \u001b[0mB07T9TMQQ3\n",
      "\u001b[93mItem keywords = \u001b[0mmobile cover back cover mobile case phone case mobile panel phone panel Sony Xperia mobile case Sony Xperia phone cover Sony Xperia back case hard case 3D printed mobile cover mobile cover back cover mobile case phone case mobile panel phone panel Nokia mobile case Nokia phone cover Nokia back case mobile cover back cover mobile case phone case mobile panel phone panel Nokia mobile case Nokia phone cover Nokia back case mobile cover back cover mobile case phone case mobile panel phone panel Nokia mobile case Nokia phone cover Nokia back case mobile cover back cover mobile case phone case mobile panel phone panel Nokia mobile case Nokia phone cover Nokia back case mobile cover back cover mobile case phone case mobile panel phone panel Nokia mobile case Nokia phone cover Nokia back case mobile cover back cover mobile case phone case mobile panel phone panel Nokia mobile case Nokia phone cover Nokia back case mobile cover back cover mobile case phone case mobile panel phone panel Nokia mobile case Nokia phone cover Nokia back case mobile cover back cover mobile case phone case mobile panel phone panel Nokia mobile case Nokia phone cover Nokia back case mobile cover back cover mobile case phone case mobile panel phone panel Nokia mobile case Nokia phone cover Nokia back case mobile cover back cover mobile case phone case mobile panel phone panel Nokia mobile case Nokia phone cover Nokia back case mobile cover back cover mobile case phone case mobile panel phone panel Nokia mobile case Nokia phone cover Nokia back case mobile cover back cover mobile case phone case mobile panel phone panel Nokia mobile case Nokia phone cover Nokia back case mobile cover back cover mobile case phone case mobile panel phone panel Nokia mobile case Nokia phone cover Nokia back case mobile cover back cover mobile case phone case mobile panel phone panel Nokia mobile case Nokia phone cover Nokia back case\n",
      "\u001b[93mScore = \u001b[0m0.647348761559\n",
      "*************** Product found ************\n",
      "\u001b[1mhash key = \u001b[0mproduct:668:B081HMPV9Y-amazon.in\n",
      "\u001b[93mItem Name = \u001b[0mAmazon Brand - Solimo Designer Heart Pattern Alphabet-H 3D Printed Hard Back Case Mobile Cover for Motorola Moto E6s / Motorola Moto E6 Plus\n",
      "\u001b[93mItem Id = \u001b[0mB081HMPV9Y\n",
      "\u001b[93mItem keywords = \u001b[0mmobile cover back cover mobile case phone case mobile panel phone panel LG mobile case LG phone cover LG back case hard case 3D printed mobile cover mobile cover back cover mobile case phone case mobile panel phone panel Motorola mobile case Motorola phone cover Motorola back case mobile cover back cover mobile case phone case mobile panel phone panel Motorola mobile case Motorola phone cover Motorola back case mobile cover back cover mobile case phone case mobile panel phone panel Motorola mobile case Motorola phone cover Motorola back case mobile cover back cover mobile case phone case mobile panel phone panel Motorola mobile case Motorola phone cover Motorola back case mobile cover back cover mobile case phone case mobile panel phone panel Motorola mobile case Motorola phone cover Motorola back case mobile cover back cover mobile case phone case mobile panel phone panel Motorola mobile case Motorola phone cover Motorola back case mobile cover back cover mobile case phone case mobile panel phone panel Motorola mobile case Motorola phone cover Motorola back case mobile cover back cover mobile case phone case mobile panel phone panel Motorola mobile case Motorola phone cover Motorola back case mobile cover back cover mobile case phone case mobile panel phone panel Motorola mobile case Motorola phone cover Motorola back case mobile cover back cover mobile case phone case mobile panel phone panel Motorola mobile case Motorola phone cover Motorola back case mobile cover back cover mobile case phone case mobile panel phone panel Motorola mobile case Motorola phone cover Motorola back case mobile cover back cover mobile case phone case mobile panel phone panel Motorola mobile case Motorola phone cover Motorola back case mobile cover back cover mobile case phone case mobile panel phone panel Motorola mobile case Motorola phone cover Motorola back case mobile cover back cover mobile case phone case mobile panel phone panel Motorola mobile case Motorola phone cover Motorola back case\n",
      "\u001b[93mScore = \u001b[0m0.650277912617\n",
      "CPU times: user 27.8 ms, sys: 17 ms, total: 44.8 ms\n",
      "Wall time: 647 ms\n"
     ]
    }
   ],
   "source": [
    "%%time\n",
    "# brute-force index\n",
    "topK=5\n",
    "#product_query='beautifully crafted present for her. a special occasion'\n",
    "product_query='cool way to pimp up my cell'\n",
    "\n",
    "#vectorize the query\n",
    "query_vector = model.encode(product_query).astype(np.float32).tobytes()\n",
    "\n",
    "#prepare the query\n",
    "q = ( Query(f'*=>[KNN {topK} @{ITEM_KEYWORD_EMBEDDING_FIELD_KNN} $vec_param AS vector_score]')\n",
    "    .sort_by('vector_score')\n",
    "    .paging(0,topK)\n",
    "    .return_fields('vector_score','item_name','item_id','item_keywords')\n",
    "    .dialect(2) )\n",
    "params_dict = {\"vec_param\": query_vector}\n",
    "\n",
    "\n",
    "#Execute the query\n",
    "results_KNN = redis_conn.ft().search(q, query_params = params_dict)\n",
    "\n",
    "#Print similar products found\n",
    "for product in results_KNN.docs:\n",
    "    print ('*************** Product found ************')\n",
    "    print (color.BOLD + 'hash key = ' +  color.END + product.id)\n",
    "    print (color.YELLOW + 'Item Name = ' +  color.END  + product.item_name)\n",
    "    print (color.YELLOW + 'Item Id = ' +  color.END  + product.item_id)\n",
    "    print (color.YELLOW + 'Item keywords = ' +  color.END  + product.item_keywords)\n",
    "    print (color.YELLOW + 'Score = ' +  color.END  + product.vector_score)"
   ]
  },
  {
   "cell_type": "code",
   "execution_count": 25,
   "id": "5dbd1892-0628-4cf6-a4ed-74231fa6a877",
   "metadata": {},
   "outputs": [
    {
     "name": "stdout",
     "output_type": "stream",
     "text": [
      "Loading and Indexing + 884 products\n",
      "CPU times: user 85.2 ms, sys: 36.7 ms, total: 122 ms\n",
      "Wall time: 5.99 s\n"
     ]
    }
   ],
   "source": [
    "%%time\n",
    "# HNSW / ANN query\n",
    "\n",
    "ITEM_KEYWORD_EMBEDDING_FIELD_ANN='item_keyword_vector_ann'\n",
    "NUMBER_PRODUCTS=884\n",
    "TEXT_EMBEDDING_DIMENSION=768\n",
    "\n",
    "print ('Loading and Indexing + ' +  str(NUMBER_PRODUCTS) + ' products')\n",
    "\n",
    "#flush all data\n",
    "redis_conn.flushall()\n",
    "\n",
    "#create flat index & load vectors\n",
    "create_hnsw_index(redis_conn, ITEM_KEYWORD_EMBEDDING_FIELD_ANN,NUMBER_PRODUCTS,TEXT_EMBEDDING_DIMENSION,'COSINE',M=40,EF=200)\n",
    "load_vectors(redis_conn,product_metadata,item_keywords_vectors,ITEM_KEYWORD_EMBEDDING_FIELD_ANN)"
   ]
  },
  {
   "cell_type": "code",
   "execution_count": 26,
   "id": "a9957199-0a30-4b1c-8228-afebe5e1b873",
   "metadata": {},
   "outputs": [
    {
     "name": "stdout",
     "output_type": "stream",
     "text": [
      "*************** Product found ANN ************\n",
      "\u001b[1mhash key = \u001b[0mproduct:558:B07T7KMCSD-amazon.in\n",
      "\u001b[93mItem Name = \u001b[0mAmazon Brand - Solimo Designer Wooden Door 3D Printed Hard Back Case Mobile Cover for Microsoft Lumia 650\n",
      "\u001b[93mItem Id = \u001b[0mB07T7KMCSD\n",
      "\u001b[93mItem keywords = \u001b[0mmobile cover back cover mobile case phone case mobile panel phone panel hard case 3D printed mobile cover mobile cover back cover mobile case phone case mobile panel phone panel Microsoft Lumia mobile case Microsoft Lumia phone cover Microsoft Lumia back case hard case 3D printed mobile cover mobile cover back cover mobile case phone case mobile panel phone panel Microsoft Lumia mobile case Microsoft Lumia phone cover Microsoft Lumia back case hard case 3D printed mobile cover mobile cover back cover mobile case phone case mobile panel phone panel Microsoft Lumia mobile case Microsoft Lumia phone cover Microsoft Lumia back case hard case 3D printed mobile cover mobile cover back cover mobile case phone case mobile panel phone panel Microsoft Lumia mobile case Microsoft Lumia phone cover Microsoft Lumia back case hard case 3D printed mobile cover mobile cover back cover mobile case phone case mobile panel phone panel Microsoft Lumia mobile case Microsoft Lumia phone cover Microsoft Lumia back case hard case 3D printed mobile cover mobile cover back cover mobile case phone case mobile panel phone panel Microsoft Lumia mobile case Microsoft Lumia phone cover Microsoft Lumia back case hard case 3D printed mobile cover mobile cover back cover mobile case phone case mobile panel phone panel Microsoft Lumia mobile case Microsoft Lumia phone cover Microsoft Lumia back case hard case 3D printed mobile cover mobile cover back cover mobile case phone case mobile panel phone panel Microsoft Lumia mobile case Microsoft Lumia phone cover Microsoft Lumia back case hard case 3D printed mobile cover mobile cover back cover mobile case phone case mobile panel phone panel Microsoft Lumia mobile case Microsoft Lumia phone cover Microsoft Lumia back case hard case 3D printed mobile cover mobile cover back cover mobile case phone case mobile panel phone panel Microsoft Lumia mobile case Microsoft Lumia phone cover Microsoft Lumia back case hard case 3D printed mobile cover mobile cover back cover mobile case phone case mobile panel phone panel Microsoft Lumia mobile case Microsoft Lumia phone cover Microsoft Lumia back case hard case 3D printed mobile cover mobile cover back cover mobile case phone case mobile panel phone panel Microsoft Lumia mobile case Microsoft Lumia phone cover Microsoft Lumia back case hard case 3D printed mobile cover mobile cover back cover mobile case phone case mobile panel phone panel Microsoft Lumia mobile case Microsoft Lumia phone cover Microsoft Lumia back case hard case 3D printed mobile cover mobile cover back cover mobile case phone case mobile panel phone panel Microsoft Lumia mobile case Microsoft Lumia phone cover Microsoft Lumia back case hard case 3D printed mobile cover\n",
      "\u001b[93mCountry = \u001b[0mIN\n",
      "\u001b[93mScore = \u001b[0m0.641375482082\n",
      "*************** Product found ANN ************\n",
      "\u001b[1mhash key = \u001b[0mproduct:184:B07T22MZ3Y-amazon.in\n",
      "\u001b[93mItem Name = \u001b[0mAmazon Brand - Solimo Designer Pink Color Fall 3D Printed Hard Back Case Mobile Cover for Motorola Moto G 2nd Generation\n",
      "\u001b[93mItem Id = \u001b[0mB07T22MZ3Y\n",
      "\u001b[93mItem keywords = \u001b[0mmobile cover back cover mobile case phone case mobile panel phone panel Sony Xperia mobile case Sony Xperia phone cover Sony Xperia back case hard case 3D printed mobile cover mobile cover back cover mobile case phone case mobile panel phone panel Motorola mobile case Motorola phone cover Motorola back case mobile cover back cover mobile case phone case mobile panel phone panel Motorola mobile case Motorola phone cover Motorola back case mobile cover back cover mobile case phone case mobile panel phone panel Motorola mobile case Motorola phone cover Motorola back case mobile cover back cover mobile case phone case mobile panel phone panel Motorola mobile case Motorola phone cover Motorola back case mobile cover back cover mobile case phone case mobile panel phone panel Motorola mobile case Motorola phone cover Motorola back case mobile cover back cover mobile case phone case mobile panel phone panel Motorola mobile case Motorola phone cover Motorola back case mobile cover back cover mobile case phone case mobile panel phone panel Motorola mobile case Motorola phone cover Motorola back case mobile cover back cover mobile case phone case mobile panel phone panel Motorola mobile case Motorola phone cover Motorola back case mobile cover back cover mobile case phone case mobile panel phone panel Motorola mobile case Motorola phone cover Motorola back case mobile cover back cover mobile case phone case mobile panel phone panel Motorola mobile case Motorola phone cover Motorola back case mobile cover back cover mobile case phone case mobile panel phone panel Motorola mobile case Motorola phone cover Motorola back case mobile cover back cover mobile case phone case mobile panel phone panel Motorola mobile case Motorola phone cover Motorola back case mobile cover back cover mobile case phone case mobile panel phone panel Motorola mobile case Motorola phone cover Motorola back case mobile cover back cover mobile case phone case mobile panel phone panel Motorola mobile case Motorola phone cover Motorola back case\n",
      "\u001b[93mCountry = \u001b[0mIN\n",
      "\u001b[93mScore = \u001b[0m0.646299540997\n",
      "*************** Product found ANN ************\n",
      "\u001b[1mhash key = \u001b[0mproduct:434:B07SYYV6WH-amazon.in\n",
      "\u001b[93mItem Name = \u001b[0mAmazon Brand - Solimo Designer Couples Standing in Rain 3D Printed Hard Back Case Mobile Cover for Motorola Moto G 2nd Generation\n",
      "\u001b[93mItem Id = \u001b[0mB07SYYV6WH\n",
      "\u001b[93mItem keywords = \u001b[0mmobile cover back cover mobile case phone case mobile panel phone panel Sony Xperia mobile case Sony Xperia phone cover Sony Xperia back case hard case 3D printed mobile cover mobile cover back cover mobile case phone case mobile panel phone panel Motorola mobile case Motorola phone cover Motorola back case mobile cover back cover mobile case phone case mobile panel phone panel Motorola mobile case Motorola phone cover Motorola back case mobile cover back cover mobile case phone case mobile panel phone panel Motorola mobile case Motorola phone cover Motorola back case mobile cover back cover mobile case phone case mobile panel phone panel Motorola mobile case Motorola phone cover Motorola back case mobile cover back cover mobile case phone case mobile panel phone panel Motorola mobile case Motorola phone cover Motorola back case mobile cover back cover mobile case phone case mobile panel phone panel Motorola mobile case Motorola phone cover Motorola back case mobile cover back cover mobile case phone case mobile panel phone panel Motorola mobile case Motorola phone cover Motorola back case mobile cover back cover mobile case phone case mobile panel phone panel Motorola mobile case Motorola phone cover Motorola back case mobile cover back cover mobile case phone case mobile panel phone panel Motorola mobile case Motorola phone cover Motorola back case mobile cover back cover mobile case phone case mobile panel phone panel Motorola mobile case Motorola phone cover Motorola back case mobile cover back cover mobile case phone case mobile panel phone panel Motorola mobile case Motorola phone cover Motorola back case mobile cover back cover mobile case phone case mobile panel phone panel Motorola mobile case Motorola phone cover Motorola back case mobile cover back cover mobile case phone case mobile panel phone panel Motorola mobile case Motorola phone cover Motorola back case mobile cover back cover mobile case phone case mobile panel phone panel Motorola mobile case Motorola phone cover Motorola back case\n",
      "\u001b[93mCountry = \u001b[0mIN\n",
      "\u001b[93mScore = \u001b[0m0.646299540997\n",
      "*************** Product found ANN ************\n",
      "\u001b[1mhash key = \u001b[0mproduct:137:B07T9TMQQ3-amazon.in\n",
      "\u001b[93mItem Name = \u001b[0mAmazon Brand - Solimo Designer Color Spread 3D Printed Hard Back Case Mobile Cover for Nokia 2.1\n",
      "\u001b[93mItem Id = \u001b[0mB07T9TMQQ3\n",
      "\u001b[93mItem keywords = \u001b[0mmobile cover back cover mobile case phone case mobile panel phone panel Sony Xperia mobile case Sony Xperia phone cover Sony Xperia back case hard case 3D printed mobile cover mobile cover back cover mobile case phone case mobile panel phone panel Nokia mobile case Nokia phone cover Nokia back case mobile cover back cover mobile case phone case mobile panel phone panel Nokia mobile case Nokia phone cover Nokia back case mobile cover back cover mobile case phone case mobile panel phone panel Nokia mobile case Nokia phone cover Nokia back case mobile cover back cover mobile case phone case mobile panel phone panel Nokia mobile case Nokia phone cover Nokia back case mobile cover back cover mobile case phone case mobile panel phone panel Nokia mobile case Nokia phone cover Nokia back case mobile cover back cover mobile case phone case mobile panel phone panel Nokia mobile case Nokia phone cover Nokia back case mobile cover back cover mobile case phone case mobile panel phone panel Nokia mobile case Nokia phone cover Nokia back case mobile cover back cover mobile case phone case mobile panel phone panel Nokia mobile case Nokia phone cover Nokia back case mobile cover back cover mobile case phone case mobile panel phone panel Nokia mobile case Nokia phone cover Nokia back case mobile cover back cover mobile case phone case mobile panel phone panel Nokia mobile case Nokia phone cover Nokia back case mobile cover back cover mobile case phone case mobile panel phone panel Nokia mobile case Nokia phone cover Nokia back case mobile cover back cover mobile case phone case mobile panel phone panel Nokia mobile case Nokia phone cover Nokia back case mobile cover back cover mobile case phone case mobile panel phone panel Nokia mobile case Nokia phone cover Nokia back case mobile cover back cover mobile case phone case mobile panel phone panel Nokia mobile case Nokia phone cover Nokia back case\n",
      "\u001b[93mCountry = \u001b[0mIN\n",
      "\u001b[93mScore = \u001b[0m0.647348761559\n",
      "*************** Product found ANN ************\n",
      "\u001b[1mhash key = \u001b[0mproduct:668:B081HMPV9Y-amazon.in\n",
      "\u001b[93mItem Name = \u001b[0mAmazon Brand - Solimo Designer Heart Pattern Alphabet-H 3D Printed Hard Back Case Mobile Cover for Motorola Moto E6s / Motorola Moto E6 Plus\n",
      "\u001b[93mItem Id = \u001b[0mB081HMPV9Y\n",
      "\u001b[93mItem keywords = \u001b[0mmobile cover back cover mobile case phone case mobile panel phone panel LG mobile case LG phone cover LG back case hard case 3D printed mobile cover mobile cover back cover mobile case phone case mobile panel phone panel Motorola mobile case Motorola phone cover Motorola back case mobile cover back cover mobile case phone case mobile panel phone panel Motorola mobile case Motorola phone cover Motorola back case mobile cover back cover mobile case phone case mobile panel phone panel Motorola mobile case Motorola phone cover Motorola back case mobile cover back cover mobile case phone case mobile panel phone panel Motorola mobile case Motorola phone cover Motorola back case mobile cover back cover mobile case phone case mobile panel phone panel Motorola mobile case Motorola phone cover Motorola back case mobile cover back cover mobile case phone case mobile panel phone panel Motorola mobile case Motorola phone cover Motorola back case mobile cover back cover mobile case phone case mobile panel phone panel Motorola mobile case Motorola phone cover Motorola back case mobile cover back cover mobile case phone case mobile panel phone panel Motorola mobile case Motorola phone cover Motorola back case mobile cover back cover mobile case phone case mobile panel phone panel Motorola mobile case Motorola phone cover Motorola back case mobile cover back cover mobile case phone case mobile panel phone panel Motorola mobile case Motorola phone cover Motorola back case mobile cover back cover mobile case phone case mobile panel phone panel Motorola mobile case Motorola phone cover Motorola back case mobile cover back cover mobile case phone case mobile panel phone panel Motorola mobile case Motorola phone cover Motorola back case mobile cover back cover mobile case phone case mobile panel phone panel Motorola mobile case Motorola phone cover Motorola back case mobile cover back cover mobile case phone case mobile panel phone panel Motorola mobile case Motorola phone cover Motorola back case\n",
      "\u001b[93mCountry = \u001b[0mIN\n",
      "\u001b[93mScore = \u001b[0m0.650277912617\n",
      "CPU times: user 26 ms, sys: 16.6 ms, total: 42.6 ms\n",
      "Wall time: 206 ms\n"
     ]
    }
   ],
   "source": [
    "%%time\n",
    "# query with ANN\n",
    "topK=5\n",
    "#product_query='beautifully crafted present for her. a special occasion'\n",
    "product_query='cool way to pimp up my cell'\n",
    "\n",
    "#vectorize the query\n",
    "query_vector = model.encode(product_query).astype(np.float32).tobytes()\n",
    "\n",
    "#prepare the query\n",
    "q = (Query(f'*=>[KNN {topK} @{ITEM_KEYWORD_EMBEDDING_FIELD_ANN} $vec_param AS vector_score]')\n",
    "     .sort_by('vector_score')\n",
    "     .paging(0,topK)\n",
    "     .return_fields('vector_score','item_name','item_id','item_keywords','country')\n",
    "     .dialect(2))\n",
    "params_dict = {\"vec_param\": query_vector}\n",
    "\n",
    "\n",
    "#Execute the query\n",
    "results_ANN = redis_conn.ft().search(q, query_params = params_dict)\n",
    "\n",
    "#Print similar products found\n",
    "for product in results_ANN.docs:\n",
    "    print ('*************** Product found ANN ************')\n",
    "    print (color.BOLD + 'hash key = ' +  color.END + product.id)\n",
    "    print (color.YELLOW + 'Item Name = ' +  color.END  + product.item_name)\n",
    "    print (color.YELLOW + 'Item Id = ' +  color.END  + product.item_id)\n",
    "    print (color.YELLOW + 'Item keywords = ' +  color.END  + product.item_keywords)\n",
    "    print (color.YELLOW + 'Country = ' +  color.END  + product.country)\n",
    "    print (color.YELLOW + 'Score = ' +  color.END  + product.vector_score)"
   ]
  },
  {
   "cell_type": "code",
   "execution_count": 33,
   "id": "911784a6-c978-42ad-8866-f694b8b77f62",
   "metadata": {},
   "outputs": [
    {
     "name": "stdout",
     "output_type": "stream",
     "text": [
      " ============== \n",
      " KNN Amazon Brand - Solimo Designer Heart Pattern Alphabet-H 3D Printed Hard Back Case Mobile Cover for Motorola Moto E6s / Motorola Moto E6 Plus - Similarity KNN 0.650277912617\n",
      " ANN Amazon Brand - Solimo Designer Heart Pattern Alphabet-H 3D Printed Hard Back Case Mobile Cover for Motorola Moto E6s / Motorola Moto E6 Plus - Similarity ANN 0.650277912617\n",
      " ============== \n",
      " KNN Amazon Brand - Solimo Designer Color Spread 3D Printed Hard Back Case Mobile Cover for Nokia 2.1 - Similarity KNN 0.647348761559\n",
      " ANN Amazon Brand - Solimo Designer Color Spread 3D Printed Hard Back Case Mobile Cover for Nokia 2.1 - Similarity ANN 0.647348761559\n",
      " ============== \n",
      " KNN Amazon Brand - Solimo Designer Couples Standing in Rain 3D Printed Hard Back Case Mobile Cover for Motorola Moto G 2nd Generation - Similarity KNN 0.646299540997\n",
      " ANN Amazon Brand - Solimo Designer Couples Standing in Rain 3D Printed Hard Back Case Mobile Cover for Motorola Moto G 2nd Generation - Similarity ANN 0.646299540997\n",
      " ============== \n",
      " KNN Amazon Brand - Solimo Designer Pink Color Fall 3D Printed Hard Back Case Mobile Cover for Motorola Moto G 2nd Generation - Similarity KNN 0.646299540997\n",
      " ANN Amazon Brand - Solimo Designer Pink Color Fall 3D Printed Hard Back Case Mobile Cover for Motorola Moto G 2nd Generation - Similarity ANN 0.646299540997\n",
      " ============== \n",
      " KNN Amazon Brand - Solimo Designer Wooden Door 3D Printed Hard Back Case Mobile Cover for Microsoft Lumia 650 - Similarity KNN 0.641375482082\n",
      " ANN Amazon Brand - Solimo Designer Wooden Door 3D Printed Hard Back Case Mobile Cover for Microsoft Lumia 650 - Similarity ANN 0.641375482082\n"
     ]
    }
   ],
   "source": [
    "# comparing outputs\n",
    "for i in reversed(range(5)):\n",
    "    print(f\"\"\" ============== \"\"\")\n",
    "    print(f\"\"\" KNN { results_KNN.docs[i][\"item_name\"] } - Similarity KNN {results_KNN.docs[i][\"vector_score\"]}\"\"\")\n",
    "    print(f\"\"\" ANN { results_ANN.docs[i][\"item_name\"] } - Similarity ANN {results_ANN.docs[i][\"vector_score\"]}\"\"\")"
   ]
  },
  {
   "cell_type": "code",
   "execution_count": 31,
   "id": "3b82068d-5cee-4e8d-aa17-bf0c4f0462d8",
   "metadata": {},
   "outputs": [
    {
     "name": "stdout",
     "output_type": "stream",
     "text": [
      "***************Product  found ************\n",
      "\u001b[1mhash key = \u001b[0mproduct:558:B07T7KMCSD-amazon.in\n",
      "\u001b[93mItem Name = \u001b[0mAmazon Brand - Solimo Designer Wooden Door 3D Printed Hard Back Case Mobile Cover for Microsoft Lumia 650\n",
      "\u001b[93mItem Id = \u001b[0mB07T7KMCSD\n",
      "\u001b[93mItem keywords = \u001b[0mmobile cover back cover mobile case phone case mobile panel phone panel hard case 3D printed mobile cover mobile cover back cover mobile case phone case mobile panel phone panel Microsoft Lumia mobile case Microsoft Lumia phone cover Microsoft Lumia back case hard case 3D printed mobile cover mobile cover back cover mobile case phone case mobile panel phone panel Microsoft Lumia mobile case Microsoft Lumia phone cover Microsoft Lumia back case hard case 3D printed mobile cover mobile cover back cover mobile case phone case mobile panel phone panel Microsoft Lumia mobile case Microsoft Lumia phone cover Microsoft Lumia back case hard case 3D printed mobile cover mobile cover back cover mobile case phone case mobile panel phone panel Microsoft Lumia mobile case Microsoft Lumia phone cover Microsoft Lumia back case hard case 3D printed mobile cover mobile cover back cover mobile case phone case mobile panel phone panel Microsoft Lumia mobile case Microsoft Lumia phone cover Microsoft Lumia back case hard case 3D printed mobile cover mobile cover back cover mobile case phone case mobile panel phone panel Microsoft Lumia mobile case Microsoft Lumia phone cover Microsoft Lumia back case hard case 3D printed mobile cover mobile cover back cover mobile case phone case mobile panel phone panel Microsoft Lumia mobile case Microsoft Lumia phone cover Microsoft Lumia back case hard case 3D printed mobile cover mobile cover back cover mobile case phone case mobile panel phone panel Microsoft Lumia mobile case Microsoft Lumia phone cover Microsoft Lumia back case hard case 3D printed mobile cover mobile cover back cover mobile case phone case mobile panel phone panel Microsoft Lumia mobile case Microsoft Lumia phone cover Microsoft Lumia back case hard case 3D printed mobile cover mobile cover back cover mobile case phone case mobile panel phone panel Microsoft Lumia mobile case Microsoft Lumia phone cover Microsoft Lumia back case hard case 3D printed mobile cover mobile cover back cover mobile case phone case mobile panel phone panel Microsoft Lumia mobile case Microsoft Lumia phone cover Microsoft Lumia back case hard case 3D printed mobile cover mobile cover back cover mobile case phone case mobile panel phone panel Microsoft Lumia mobile case Microsoft Lumia phone cover Microsoft Lumia back case hard case 3D printed mobile cover mobile cover back cover mobile case phone case mobile panel phone panel Microsoft Lumia mobile case Microsoft Lumia phone cover Microsoft Lumia back case hard case 3D printed mobile cover mobile cover back cover mobile case phone case mobile panel phone panel Microsoft Lumia mobile case Microsoft Lumia phone cover Microsoft Lumia back case hard case 3D printed mobile cover\n",
      "\u001b[93mScore = \u001b[0m0.641375482082\n",
      "\u001b[93mCountry = \u001b[0mIN\n",
      "***************Product  found ************\n",
      "\u001b[1mhash key = \u001b[0mproduct:184:B07T22MZ3Y-amazon.in\n",
      "\u001b[93mItem Name = \u001b[0mAmazon Brand - Solimo Designer Pink Color Fall 3D Printed Hard Back Case Mobile Cover for Motorola Moto G 2nd Generation\n",
      "\u001b[93mItem Id = \u001b[0mB07T22MZ3Y\n",
      "\u001b[93mItem keywords = \u001b[0mmobile cover back cover mobile case phone case mobile panel phone panel Sony Xperia mobile case Sony Xperia phone cover Sony Xperia back case hard case 3D printed mobile cover mobile cover back cover mobile case phone case mobile panel phone panel Motorola mobile case Motorola phone cover Motorola back case mobile cover back cover mobile case phone case mobile panel phone panel Motorola mobile case Motorola phone cover Motorola back case mobile cover back cover mobile case phone case mobile panel phone panel Motorola mobile case Motorola phone cover Motorola back case mobile cover back cover mobile case phone case mobile panel phone panel Motorola mobile case Motorola phone cover Motorola back case mobile cover back cover mobile case phone case mobile panel phone panel Motorola mobile case Motorola phone cover Motorola back case mobile cover back cover mobile case phone case mobile panel phone panel Motorola mobile case Motorola phone cover Motorola back case mobile cover back cover mobile case phone case mobile panel phone panel Motorola mobile case Motorola phone cover Motorola back case mobile cover back cover mobile case phone case mobile panel phone panel Motorola mobile case Motorola phone cover Motorola back case mobile cover back cover mobile case phone case mobile panel phone panel Motorola mobile case Motorola phone cover Motorola back case mobile cover back cover mobile case phone case mobile panel phone panel Motorola mobile case Motorola phone cover Motorola back case mobile cover back cover mobile case phone case mobile panel phone panel Motorola mobile case Motorola phone cover Motorola back case mobile cover back cover mobile case phone case mobile panel phone panel Motorola mobile case Motorola phone cover Motorola back case mobile cover back cover mobile case phone case mobile panel phone panel Motorola mobile case Motorola phone cover Motorola back case mobile cover back cover mobile case phone case mobile panel phone panel Motorola mobile case Motorola phone cover Motorola back case\n",
      "\u001b[93mScore = \u001b[0m0.646299540997\n",
      "\u001b[93mCountry = \u001b[0mIN\n",
      "***************Product  found ************\n",
      "\u001b[1mhash key = \u001b[0mproduct:434:B07SYYV6WH-amazon.in\n",
      "\u001b[93mItem Name = \u001b[0mAmazon Brand - Solimo Designer Couples Standing in Rain 3D Printed Hard Back Case Mobile Cover for Motorola Moto G 2nd Generation\n",
      "\u001b[93mItem Id = \u001b[0mB07SYYV6WH\n",
      "\u001b[93mItem keywords = \u001b[0mmobile cover back cover mobile case phone case mobile panel phone panel Sony Xperia mobile case Sony Xperia phone cover Sony Xperia back case hard case 3D printed mobile cover mobile cover back cover mobile case phone case mobile panel phone panel Motorola mobile case Motorola phone cover Motorola back case mobile cover back cover mobile case phone case mobile panel phone panel Motorola mobile case Motorola phone cover Motorola back case mobile cover back cover mobile case phone case mobile panel phone panel Motorola mobile case Motorola phone cover Motorola back case mobile cover back cover mobile case phone case mobile panel phone panel Motorola mobile case Motorola phone cover Motorola back case mobile cover back cover mobile case phone case mobile panel phone panel Motorola mobile case Motorola phone cover Motorola back case mobile cover back cover mobile case phone case mobile panel phone panel Motorola mobile case Motorola phone cover Motorola back case mobile cover back cover mobile case phone case mobile panel phone panel Motorola mobile case Motorola phone cover Motorola back case mobile cover back cover mobile case phone case mobile panel phone panel Motorola mobile case Motorola phone cover Motorola back case mobile cover back cover mobile case phone case mobile panel phone panel Motorola mobile case Motorola phone cover Motorola back case mobile cover back cover mobile case phone case mobile panel phone panel Motorola mobile case Motorola phone cover Motorola back case mobile cover back cover mobile case phone case mobile panel phone panel Motorola mobile case Motorola phone cover Motorola back case mobile cover back cover mobile case phone case mobile panel phone panel Motorola mobile case Motorola phone cover Motorola back case mobile cover back cover mobile case phone case mobile panel phone panel Motorola mobile case Motorola phone cover Motorola back case mobile cover back cover mobile case phone case mobile panel phone panel Motorola mobile case Motorola phone cover Motorola back case\n",
      "\u001b[93mScore = \u001b[0m0.646299540997\n",
      "\u001b[93mCountry = \u001b[0mIN\n",
      "***************Product  found ************\n",
      "\u001b[1mhash key = \u001b[0mproduct:137:B07T9TMQQ3-amazon.in\n",
      "\u001b[93mItem Name = \u001b[0mAmazon Brand - Solimo Designer Color Spread 3D Printed Hard Back Case Mobile Cover for Nokia 2.1\n",
      "\u001b[93mItem Id = \u001b[0mB07T9TMQQ3\n",
      "\u001b[93mItem keywords = \u001b[0mmobile cover back cover mobile case phone case mobile panel phone panel Sony Xperia mobile case Sony Xperia phone cover Sony Xperia back case hard case 3D printed mobile cover mobile cover back cover mobile case phone case mobile panel phone panel Nokia mobile case Nokia phone cover Nokia back case mobile cover back cover mobile case phone case mobile panel phone panel Nokia mobile case Nokia phone cover Nokia back case mobile cover back cover mobile case phone case mobile panel phone panel Nokia mobile case Nokia phone cover Nokia back case mobile cover back cover mobile case phone case mobile panel phone panel Nokia mobile case Nokia phone cover Nokia back case mobile cover back cover mobile case phone case mobile panel phone panel Nokia mobile case Nokia phone cover Nokia back case mobile cover back cover mobile case phone case mobile panel phone panel Nokia mobile case Nokia phone cover Nokia back case mobile cover back cover mobile case phone case mobile panel phone panel Nokia mobile case Nokia phone cover Nokia back case mobile cover back cover mobile case phone case mobile panel phone panel Nokia mobile case Nokia phone cover Nokia back case mobile cover back cover mobile case phone case mobile panel phone panel Nokia mobile case Nokia phone cover Nokia back case mobile cover back cover mobile case phone case mobile panel phone panel Nokia mobile case Nokia phone cover Nokia back case mobile cover back cover mobile case phone case mobile panel phone panel Nokia mobile case Nokia phone cover Nokia back case mobile cover back cover mobile case phone case mobile panel phone panel Nokia mobile case Nokia phone cover Nokia back case mobile cover back cover mobile case phone case mobile panel phone panel Nokia mobile case Nokia phone cover Nokia back case mobile cover back cover mobile case phone case mobile panel phone panel Nokia mobile case Nokia phone cover Nokia back case\n",
      "\u001b[93mScore = \u001b[0m0.647348761559\n",
      "\u001b[93mCountry = \u001b[0mIN\n",
      "***************Product  found ************\n",
      "\u001b[1mhash key = \u001b[0mproduct:668:B081HMPV9Y-amazon.in\n",
      "\u001b[93mItem Name = \u001b[0mAmazon Brand - Solimo Designer Heart Pattern Alphabet-H 3D Printed Hard Back Case Mobile Cover for Motorola Moto E6s / Motorola Moto E6 Plus\n",
      "\u001b[93mItem Id = \u001b[0mB081HMPV9Y\n",
      "\u001b[93mItem keywords = \u001b[0mmobile cover back cover mobile case phone case mobile panel phone panel LG mobile case LG phone cover LG back case hard case 3D printed mobile cover mobile cover back cover mobile case phone case mobile panel phone panel Motorola mobile case Motorola phone cover Motorola back case mobile cover back cover mobile case phone case mobile panel phone panel Motorola mobile case Motorola phone cover Motorola back case mobile cover back cover mobile case phone case mobile panel phone panel Motorola mobile case Motorola phone cover Motorola back case mobile cover back cover mobile case phone case mobile panel phone panel Motorola mobile case Motorola phone cover Motorola back case mobile cover back cover mobile case phone case mobile panel phone panel Motorola mobile case Motorola phone cover Motorola back case mobile cover back cover mobile case phone case mobile panel phone panel Motorola mobile case Motorola phone cover Motorola back case mobile cover back cover mobile case phone case mobile panel phone panel Motorola mobile case Motorola phone cover Motorola back case mobile cover back cover mobile case phone case mobile panel phone panel Motorola mobile case Motorola phone cover Motorola back case mobile cover back cover mobile case phone case mobile panel phone panel Motorola mobile case Motorola phone cover Motorola back case mobile cover back cover mobile case phone case mobile panel phone panel Motorola mobile case Motorola phone cover Motorola back case mobile cover back cover mobile case phone case mobile panel phone panel Motorola mobile case Motorola phone cover Motorola back case mobile cover back cover mobile case phone case mobile panel phone panel Motorola mobile case Motorola phone cover Motorola back case mobile cover back cover mobile case phone case mobile panel phone panel Motorola mobile case Motorola phone cover Motorola back case mobile cover back cover mobile case phone case mobile panel phone panel Motorola mobile case Motorola phone cover Motorola back case\n",
      "\u001b[93mScore = \u001b[0m0.650277912617\n",
      "\u001b[93mCountry = \u001b[0mIN\n",
      "CPU times: user 26.6 ms, sys: 15.3 ms, total: 42 ms\n",
      "Wall time: 1.18 s\n"
     ]
    }
   ],
   "source": [
    "%%time\n",
    "# HYbrid query\n",
    "topK=5\n",
    "# product_query='beautifully crafted carpets for a special occasion'\n",
    "product_query='cool way to pimp up my cell'\n",
    "\n",
    "#vectorize the query\n",
    "query_vector = model.encode(product_query).astype(np.float32).tobytes()\n",
    "\n",
    "#prepare the query\n",
    "q = (Query(f'(@country:{{DE|IN|IT}})=>[KNN {topK} @{ITEM_KEYWORD_EMBEDDING_FIELD_ANN} $vec_param AS vector_score]')\n",
    "    .sort_by('vector_score')\n",
    "    .paging(0,topK)\n",
    "    .return_fields('vector_score','item_name','item_id','item_keywords','country')\n",
    "    .dialect(2))\n",
    "params_dict = {\"vec_param\": query_vector}\n",
    "\n",
    "\n",
    "#Execute the query\n",
    "results_HYBRID = redis_conn.ft().search(q, query_params = params_dict)\n",
    "\n",
    "#Print similar products found\n",
    "for product in results_HYBRID.docs:\n",
    "    print ('***************Product  found ************')\n",
    "    print (color.BOLD + 'hash key = ' +  color.END + product.id)\n",
    "    print (color.YELLOW + 'Item Name = ' +  color.END  + product.item_name)\n",
    "    print (color.YELLOW + 'Item Id = ' +  color.END  + product.item_id)\n",
    "    print (color.YELLOW + 'Item keywords = ' +  color.END  + product.item_keywords)\n",
    "    print (color.YELLOW + 'Score = ' +  color.END  + product.vector_score)\n",
    "    print (color.YELLOW + 'Country = ' +  color.END  + product.country)"
   ]
  },
  {
   "cell_type": "code",
   "execution_count": 34,
   "id": "b8369d7f-83c4-477f-9930-fab67c1da0ec",
   "metadata": {},
   "outputs": [
    {
     "name": "stdout",
     "output_type": "stream",
     "text": [
      " ============== \n",
      " KNN Amazon Brand - Solimo Designer Heart Pattern Alphabet-H 3D Printed Hard Back Case Mobile Cover for Motorola Moto E6s / Motorola Moto E6 Plus - Similarity KNN 0.650277912617\n",
      " ANN Amazon Brand - Solimo Designer Heart Pattern Alphabet-H 3D Printed Hard Back Case Mobile Cover for Motorola Moto E6s / Motorola Moto E6 Plus - Similarity ANN 0.650277912617\n",
      " HYB Amazon Brand - Solimo Designer Heart Pattern Alphabet-H 3D Printed Hard Back Case Mobile Cover for Motorola Moto E6s / Motorola Moto E6 Plus - Similarity ANN 0.650277912617\n",
      " ============== \n",
      " KNN Amazon Brand - Solimo Designer Color Spread 3D Printed Hard Back Case Mobile Cover for Nokia 2.1 - Similarity KNN 0.647348761559\n",
      " ANN Amazon Brand - Solimo Designer Color Spread 3D Printed Hard Back Case Mobile Cover for Nokia 2.1 - Similarity ANN 0.647348761559\n",
      " HYB Amazon Brand - Solimo Designer Color Spread 3D Printed Hard Back Case Mobile Cover for Nokia 2.1 - Similarity ANN 0.647348761559\n",
      " ============== \n",
      " KNN Amazon Brand - Solimo Designer Couples Standing in Rain 3D Printed Hard Back Case Mobile Cover for Motorola Moto G 2nd Generation - Similarity KNN 0.646299540997\n",
      " ANN Amazon Brand - Solimo Designer Couples Standing in Rain 3D Printed Hard Back Case Mobile Cover for Motorola Moto G 2nd Generation - Similarity ANN 0.646299540997\n",
      " HYB Amazon Brand - Solimo Designer Couples Standing in Rain 3D Printed Hard Back Case Mobile Cover for Motorola Moto G 2nd Generation - Similarity ANN 0.646299540997\n",
      " ============== \n",
      " KNN Amazon Brand - Solimo Designer Pink Color Fall 3D Printed Hard Back Case Mobile Cover for Motorola Moto G 2nd Generation - Similarity KNN 0.646299540997\n",
      " ANN Amazon Brand - Solimo Designer Pink Color Fall 3D Printed Hard Back Case Mobile Cover for Motorola Moto G 2nd Generation - Similarity ANN 0.646299540997\n",
      " HYB Amazon Brand - Solimo Designer Pink Color Fall 3D Printed Hard Back Case Mobile Cover for Motorola Moto G 2nd Generation - Similarity ANN 0.646299540997\n",
      " ============== \n",
      " KNN Amazon Brand - Solimo Designer Wooden Door 3D Printed Hard Back Case Mobile Cover for Microsoft Lumia 650 - Similarity KNN 0.641375482082\n",
      " ANN Amazon Brand - Solimo Designer Wooden Door 3D Printed Hard Back Case Mobile Cover for Microsoft Lumia 650 - Similarity ANN 0.641375482082\n",
      " HYB Amazon Brand - Solimo Designer Wooden Door 3D Printed Hard Back Case Mobile Cover for Microsoft Lumia 650 - Similarity ANN 0.641375482082\n"
     ]
    }
   ],
   "source": [
    "# comparing outputs\n",
    "for i in reversed(range(5)):\n",
    "    print(f\"\"\" ============== \"\"\")\n",
    "    print(f\"\"\" KNN { results_KNN.docs[i][\"item_name\"] } - Similarity KNN {results_KNN.docs[i][\"vector_score\"]}\"\"\")\n",
    "    print(f\"\"\" ANN { results_ANN.docs[i][\"item_name\"] } - Similarity ANN {results_ANN.docs[i][\"vector_score\"]}\"\"\")\n",
    "    print(f\"\"\" HYB { results_HYBRID.docs[i][\"item_name\"] } - Similarity ANN {results_HYBRID.docs[i][\"vector_score\"]}\"\"\")    "
   ]
  },
  {
   "cell_type": "code",
   "execution_count": null,
   "id": "257df0ed-e270-414b-a5b1-ba6972f1d9d2",
   "metadata": {},
   "outputs": [],
   "source": []
  }
 ],
 "metadata": {
  "kernelspec": {
   "display_name": "Python 3 (ipykernel)",
   "language": "python",
   "name": "python3"
  },
  "language_info": {
   "codemirror_mode": {
    "name": "ipython",
    "version": 3
   },
   "file_extension": ".py",
   "mimetype": "text/x-python",
   "name": "python",
   "nbconvert_exporter": "python",
   "pygments_lexer": "ipython3",
   "version": "3.9.4"
  }
 },
 "nbformat": 4,
 "nbformat_minor": 5
}
