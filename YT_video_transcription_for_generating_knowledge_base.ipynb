{
  "nbformat": 4,
  "nbformat_minor": 0,
  "metadata": {
    "colab": {
      "provenance": [],
      "gpuType": "T4",
      "authorship_tag": "ABX9TyPzGa3wEz27MBJ9Vi1oJ4p9",
      "include_colab_link": true
    },
    "kernelspec": {
      "name": "python3",
      "display_name": "Python 3"
    },
    "language_info": {
      "name": "python"
    },
    "accelerator": "GPU"
  },
  "cells": [
    {
      "cell_type": "markdown",
      "metadata": {
        "id": "view-in-github",
        "colab_type": "text"
      },
      "source": [
        "<a href=\"https://colab.research.google.com/github/smatiolids/vector-dbs/blob/main/YT_video_transcription_for_generating_knowledge_base.ipynb\" target=\"_parent\"><img src=\"https://colab.research.google.com/assets/colab-badge.svg\" alt=\"Open In Colab\"/></a>"
      ]
    },
    {
      "cell_type": "markdown",
      "source": [
        "# Video Transcription to fill knowledge base\n",
        "\n",
        "I talked to a customer who wants to leverage influencers comments to recommend their products.\n",
        "\n",
        "The idea then is to process public youtube videos, collecting influencer's speech to use their voice to generate responses and indicate the video content which was the source of the respoonse.\n",
        "\n",
        "The Hybrid Search would be important to find specific products, categories or product's types that are related to the company business.\n",
        "\n",
        "This is part of a demo I will do to a customer, so I tried to solve both the learning and the demo in one shot.\n",
        "\n",
        "### The video\n",
        "\n",
        "I choose a video from a Brazilian influencer answering questions about science. It has a lot of different subjects, from science, astronomy and curiosities.\n",
        "\n",
        "### References:\n",
        "\n",
        "https://code.pieces.app/blog/how-to-download-a-youtube-video-in-mp3-format-with-python\n",
        "https://lablab.ai/t/whisper-tutorial\n",
        "\n",
        "\n",
        "\n",
        "### Before start\n",
        "\n",
        "- Set runtime type as GPU"
      ],
      "metadata": {
        "id": "ne2FMwB2ysGe"
      }
    },
    {
      "cell_type": "markdown",
      "source": [
        "## Installing Whisper and FFMPEG"
      ],
      "metadata": {
        "id": "xYvboiMU1PyE"
      }
    },
    {
      "cell_type": "code",
      "execution_count": 1,
      "metadata": {
        "id": "vuhL19gsyiNY",
        "colab": {
          "base_uri": "https://localhost:8080/"
        },
        "outputId": "f20ff65d-5ec2-4342-8f5e-049ebca4961f"
      },
      "outputs": [
        {
          "output_type": "stream",
          "name": "stdout",
          "text": [
            "Collecting git+https://github.com/openai/whisper.git\n",
            "  Cloning https://github.com/openai/whisper.git to /tmp/pip-req-build-tq8mu0l9\n",
            "  Running command git clone --filter=blob:none --quiet https://github.com/openai/whisper.git /tmp/pip-req-build-tq8mu0l9\n",
            "  Resolved https://github.com/openai/whisper.git to commit 0a60fcaa9b86748389a656aa013c416030287d47\n",
            "  Installing build dependencies ... \u001b[?25l\u001b[?25hdone\n",
            "  Getting requirements to build wheel ... \u001b[?25l\u001b[?25hdone\n",
            "  Preparing metadata (pyproject.toml) ... \u001b[?25l\u001b[?25hdone\n",
            "Requirement already satisfied: triton==2.0.0 in /usr/local/lib/python3.10/dist-packages (from openai-whisper==20230918) (2.0.0)\n",
            "Requirement already satisfied: numba in /usr/local/lib/python3.10/dist-packages (from openai-whisper==20230918) (0.56.4)\n",
            "Requirement already satisfied: numpy in /usr/local/lib/python3.10/dist-packages (from openai-whisper==20230918) (1.23.5)\n",
            "Requirement already satisfied: torch in /usr/local/lib/python3.10/dist-packages (from openai-whisper==20230918) (2.0.1+cu118)\n",
            "Requirement already satisfied: tqdm in /usr/local/lib/python3.10/dist-packages (from openai-whisper==20230918) (4.66.1)\n",
            "Requirement already satisfied: more-itertools in /usr/local/lib/python3.10/dist-packages (from openai-whisper==20230918) (10.1.0)\n",
            "Collecting tiktoken==0.3.3 (from openai-whisper==20230918)\n",
            "  Downloading tiktoken-0.3.3-cp310-cp310-manylinux_2_17_x86_64.manylinux2014_x86_64.whl (1.7 MB)\n",
            "\u001b[2K     \u001b[90m━━━━━━━━━━━━━━━━━━━━━━━━━━━━━━━━━━━━━━━━\u001b[0m \u001b[32m1.7/1.7 MB\u001b[0m \u001b[31m20.3 MB/s\u001b[0m eta \u001b[36m0:00:00\u001b[0m\n",
            "\u001b[?25hRequirement already satisfied: regex>=2022.1.18 in /usr/local/lib/python3.10/dist-packages (from tiktoken==0.3.3->openai-whisper==20230918) (2023.6.3)\n",
            "Requirement already satisfied: requests>=2.26.0 in /usr/local/lib/python3.10/dist-packages (from tiktoken==0.3.3->openai-whisper==20230918) (2.31.0)\n",
            "Requirement already satisfied: cmake in /usr/local/lib/python3.10/dist-packages (from triton==2.0.0->openai-whisper==20230918) (3.27.4.1)\n",
            "Requirement already satisfied: filelock in /usr/local/lib/python3.10/dist-packages (from triton==2.0.0->openai-whisper==20230918) (3.12.2)\n",
            "Requirement already satisfied: lit in /usr/local/lib/python3.10/dist-packages (from triton==2.0.0->openai-whisper==20230918) (16.0.6)\n",
            "Requirement already satisfied: llvmlite<0.40,>=0.39.0dev0 in /usr/local/lib/python3.10/dist-packages (from numba->openai-whisper==20230918) (0.39.1)\n",
            "Requirement already satisfied: setuptools in /usr/local/lib/python3.10/dist-packages (from numba->openai-whisper==20230918) (67.7.2)\n",
            "Requirement already satisfied: typing-extensions in /usr/local/lib/python3.10/dist-packages (from torch->openai-whisper==20230918) (4.5.0)\n",
            "Requirement already satisfied: sympy in /usr/local/lib/python3.10/dist-packages (from torch->openai-whisper==20230918) (1.12)\n",
            "Requirement already satisfied: networkx in /usr/local/lib/python3.10/dist-packages (from torch->openai-whisper==20230918) (3.1)\n",
            "Requirement already satisfied: jinja2 in /usr/local/lib/python3.10/dist-packages (from torch->openai-whisper==20230918) (3.1.2)\n",
            "Requirement already satisfied: charset-normalizer<4,>=2 in /usr/local/lib/python3.10/dist-packages (from requests>=2.26.0->tiktoken==0.3.3->openai-whisper==20230918) (3.2.0)\n",
            "Requirement already satisfied: idna<4,>=2.5 in /usr/local/lib/python3.10/dist-packages (from requests>=2.26.0->tiktoken==0.3.3->openai-whisper==20230918) (3.4)\n",
            "Requirement already satisfied: urllib3<3,>=1.21.1 in /usr/local/lib/python3.10/dist-packages (from requests>=2.26.0->tiktoken==0.3.3->openai-whisper==20230918) (2.0.4)\n",
            "Requirement already satisfied: certifi>=2017.4.17 in /usr/local/lib/python3.10/dist-packages (from requests>=2.26.0->tiktoken==0.3.3->openai-whisper==20230918) (2023.7.22)\n",
            "Requirement already satisfied: MarkupSafe>=2.0 in /usr/local/lib/python3.10/dist-packages (from jinja2->torch->openai-whisper==20230918) (2.1.3)\n",
            "Requirement already satisfied: mpmath>=0.19 in /usr/local/lib/python3.10/dist-packages (from sympy->torch->openai-whisper==20230918) (1.3.0)\n",
            "Building wheels for collected packages: openai-whisper\n",
            "  Building wheel for openai-whisper (pyproject.toml) ... \u001b[?25l\u001b[?25hdone\n",
            "  Created wheel for openai-whisper: filename=openai_whisper-20230918-py3-none-any.whl size=798399 sha256=277b53f08923edc79833c84ee52d061b7801a76d8453eb7fa30efc63fcd6b5a2\n",
            "  Stored in directory: /tmp/pip-ephem-wheel-cache-gzalpj2d/wheels/8b/6c/d0/622666868c179f156cf595c8b6f06f88bc5d80c4b31dccaa03\n",
            "Successfully built openai-whisper\n",
            "Installing collected packages: tiktoken, openai-whisper\n",
            "Successfully installed openai-whisper-20230918 tiktoken-0.3.3\n"
          ]
        }
      ],
      "source": [
        "# Install whisper.ai\n",
        "!pip install git+https://github.com/openai/whisper.git"
      ]
    },
    {
      "cell_type": "code",
      "source": [
        "!sudo apt update && sudo apt install ffmpeg"
      ],
      "metadata": {
        "colab": {
          "base_uri": "https://localhost:8080/"
        },
        "id": "N8Qp1Ith0890",
        "outputId": "98fcfbb4-9342-4cd2-8ee6-bd492658aec1"
      },
      "execution_count": 39,
      "outputs": [
        {
          "output_type": "stream",
          "name": "stdout",
          "text": [
            "\u001b[33m\r0% [Working]\u001b[0m\r            \rHit:1 http://security.ubuntu.com/ubuntu jammy-security InRelease\n",
            "\u001b[33m\r0% [Connecting to archive.ubuntu.com] [Waiting for headers] [Connecting to ppa.\u001b[0m\r                                                                               \rHit:2 https://cloud.r-project.org/bin/linux/ubuntu jammy-cran40/ InRelease\n",
            "Hit:3 https://developer.download.nvidia.com/compute/cuda/repos/ubuntu2204/x86_64  InRelease\n",
            "Hit:4 http://archive.ubuntu.com/ubuntu jammy InRelease\n",
            "Hit:5 http://archive.ubuntu.com/ubuntu jammy-updates InRelease\n",
            "Hit:6 http://archive.ubuntu.com/ubuntu jammy-backports InRelease\n",
            "Hit:7 https://ppa.launchpadcontent.net/c2d4u.team/c2d4u4.0+/ubuntu jammy InRelease\n",
            "Hit:8 https://ppa.launchpadcontent.net/deadsnakes/ppa/ubuntu jammy InRelease\n",
            "Hit:9 https://ppa.launchpadcontent.net/graphics-drivers/ppa/ubuntu jammy InRelease\n",
            "Hit:10 https://ppa.launchpadcontent.net/ubuntugis/ppa/ubuntu jammy InRelease\n",
            "Reading package lists... Done\n",
            "Building dependency tree... Done\n",
            "Reading state information... Done\n",
            "18 packages can be upgraded. Run 'apt list --upgradable' to see them.\n",
            "Reading package lists... Done\n",
            "Building dependency tree... Done\n",
            "Reading state information... Done\n",
            "\u001b[1;31mE: \u001b[0mUnable to locate package cassio\u001b[0m\n"
          ]
        }
      ]
    },
    {
      "cell_type": "code",
      "source": [
        "import torch\n",
        "torch.cuda.is_available()\n",
        "DEVICE = \"cuda\" if torch.cuda.is_available() else \"cpu\"\n",
        "DEVICE"
      ],
      "metadata": {
        "colab": {
          "base_uri": "https://localhost:8080/",
          "height": 35
        },
        "id": "HAHNiStj-HTr",
        "outputId": "ddd02204-fba1-44d8-9468-384099580872"
      },
      "execution_count": 3,
      "outputs": [
        {
          "output_type": "execute_result",
          "data": {
            "text/plain": [
              "'cuda'"
            ],
            "application/vnd.google.colaboratory.intrinsic+json": {
              "type": "string"
            }
          },
          "metadata": {},
          "execution_count": 3
        }
      ]
    },
    {
      "cell_type": "markdown",
      "source": [
        "# Importing Youtube audio\n"
      ],
      "metadata": {
        "id": "9-CRibS61sAO"
      }
    },
    {
      "cell_type": "code",
      "source": [
        "!pip install pytube moviepy mock pydub python-dotenv cassio openai"
      ],
      "metadata": {
        "colab": {
          "base_uri": "https://localhost:8080/"
        },
        "id": "F8IMK6as09TQ",
        "outputId": "027e42cc-68ed-4f3d-8cae-ff46d396fdf9"
      },
      "execution_count": 75,
      "outputs": [
        {
          "output_type": "stream",
          "name": "stdout",
          "text": [
            "Requirement already satisfied: pytube in /usr/local/lib/python3.10/dist-packages (15.0.0)\n",
            "Requirement already satisfied: moviepy in /usr/local/lib/python3.10/dist-packages (1.0.3)\n",
            "Requirement already satisfied: mock in /usr/local/lib/python3.10/dist-packages (5.1.0)\n",
            "Requirement already satisfied: pydub in /usr/local/lib/python3.10/dist-packages (0.25.1)\n",
            "Requirement already satisfied: python-dotenv in /usr/local/lib/python3.10/dist-packages (1.0.0)\n",
            "Requirement already satisfied: cassio in /usr/local/lib/python3.10/dist-packages (0.1.3)\n",
            "Collecting openai\n",
            "  Downloading openai-0.28.1-py3-none-any.whl (76 kB)\n",
            "\u001b[2K     \u001b[90m━━━━━━━━━━━━━━━━━━━━━━━━━━━━━━━━━━━━━━━━\u001b[0m \u001b[32m77.0/77.0 kB\u001b[0m \u001b[31m2.1 MB/s\u001b[0m eta \u001b[36m0:00:00\u001b[0m\n",
            "\u001b[?25hRequirement already satisfied: decorator<5.0,>=4.0.2 in /usr/local/lib/python3.10/dist-packages (from moviepy) (4.4.2)\n",
            "Requirement already satisfied: tqdm<5.0,>=4.11.2 in /usr/local/lib/python3.10/dist-packages (from moviepy) (4.66.1)\n",
            "Requirement already satisfied: requests<3.0,>=2.8.1 in /usr/local/lib/python3.10/dist-packages (from moviepy) (2.31.0)\n",
            "Requirement already satisfied: proglog<=1.0.0 in /usr/local/lib/python3.10/dist-packages (from moviepy) (0.1.10)\n",
            "Requirement already satisfied: numpy>=1.17.3 in /usr/local/lib/python3.10/dist-packages (from moviepy) (1.23.5)\n",
            "Requirement already satisfied: imageio<3.0,>=2.5 in /usr/local/lib/python3.10/dist-packages (from moviepy) (2.31.3)\n",
            "Requirement already satisfied: imageio-ffmpeg>=0.2.0 in /usr/local/lib/python3.10/dist-packages (from moviepy) (0.4.8)\n",
            "Requirement already satisfied: cassandra-driver>=3.28.0 in /usr/local/lib/python3.10/dist-packages (from cassio) (3.28.0)\n",
            "Requirement already satisfied: aiohttp in /usr/local/lib/python3.10/dist-packages (from openai) (3.8.5)\n",
            "Requirement already satisfied: six>=1.9 in /usr/local/lib/python3.10/dist-packages (from cassandra-driver>=3.28.0->cassio) (1.16.0)\n",
            "Requirement already satisfied: geomet<0.3,>=0.1 in /usr/local/lib/python3.10/dist-packages (from cassandra-driver>=3.28.0->cassio) (0.2.1.post1)\n",
            "Requirement already satisfied: pillow>=8.3.2 in /usr/local/lib/python3.10/dist-packages (from imageio<3.0,>=2.5->moviepy) (9.4.0)\n",
            "Requirement already satisfied: charset-normalizer<4,>=2 in /usr/local/lib/python3.10/dist-packages (from requests<3.0,>=2.8.1->moviepy) (3.2.0)\n",
            "Requirement already satisfied: idna<4,>=2.5 in /usr/local/lib/python3.10/dist-packages (from requests<3.0,>=2.8.1->moviepy) (3.4)\n",
            "Requirement already satisfied: urllib3<3,>=1.21.1 in /usr/local/lib/python3.10/dist-packages (from requests<3.0,>=2.8.1->moviepy) (2.0.4)\n",
            "Requirement already satisfied: certifi>=2017.4.17 in /usr/local/lib/python3.10/dist-packages (from requests<3.0,>=2.8.1->moviepy) (2023.7.22)\n",
            "Requirement already satisfied: attrs>=17.3.0 in /usr/local/lib/python3.10/dist-packages (from aiohttp->openai) (23.1.0)\n",
            "Requirement already satisfied: multidict<7.0,>=4.5 in /usr/local/lib/python3.10/dist-packages (from aiohttp->openai) (6.0.4)\n",
            "Requirement already satisfied: async-timeout<5.0,>=4.0.0a3 in /usr/local/lib/python3.10/dist-packages (from aiohttp->openai) (4.0.3)\n",
            "Requirement already satisfied: yarl<2.0,>=1.0 in /usr/local/lib/python3.10/dist-packages (from aiohttp->openai) (1.9.2)\n",
            "Requirement already satisfied: frozenlist>=1.1.1 in /usr/local/lib/python3.10/dist-packages (from aiohttp->openai) (1.4.0)\n",
            "Requirement already satisfied: aiosignal>=1.1.2 in /usr/local/lib/python3.10/dist-packages (from aiohttp->openai) (1.3.1)\n",
            "Requirement already satisfied: click in /usr/local/lib/python3.10/dist-packages (from geomet<0.3,>=0.1->cassandra-driver>=3.28.0->cassio) (8.1.7)\n",
            "Installing collected packages: openai\n",
            "Successfully installed openai-0.28.1\n"
          ]
        }
      ]
    },
    {
      "cell_type": "code",
      "source": [
        "import os\n",
        "import pytube\n",
        "from moviepy.editor import *\n",
        "from pydub import AudioSegment"
      ],
      "metadata": {
        "id": "-Q_zpIQM1ur0"
      },
      "execution_count": 5,
      "outputs": []
    },
    {
      "cell_type": "code",
      "source": [
        "def split_mp3(input_file, output_directory, segment_duration_sec, overlap_sec = 1):\n",
        "    # Load the MP3 file\n",
        "    audio = AudioSegment.from_mp3(input_file)\n",
        "    segment_duration_ms = segment_duration_sec * 1000\n",
        "    overlap_ms = overlap_sec * 1000\n",
        "    # Calculate the number of segments\n",
        "    num_segments = len(audio) // ( segment_duration_ms - overlap_ms)\n",
        "\n",
        "    # Create the output directory if it doesn't exist\n",
        "    if not os.path.exists(output_directory):\n",
        "        os.makedirs(output_directory)\n",
        "\n",
        "    # Split the MP3 file into segments\n",
        "    for i in range(num_segments):\n",
        "        start_time = i * ( segment_duration_ms - overlap_ms)\n",
        "        if start_time < 0:\n",
        "          start_time = 0\n",
        "\n",
        "        end_time = (i + 1) * segment_duration_ms\n",
        "        segment = audio[start_time:end_time]\n",
        "\n",
        "        # Define the output filename\n",
        "        output_file = os.path.join(output_directory, f\"segment_{str(i + 1).zfill(5)}.mp3\")\n",
        "\n",
        "        # Export the segment as an MP3 file\n",
        "        segment.export(output_file, format=\"mp3\")\n",
        "\n",
        "        print(f\"Segment {i + 1} saved as {output_file}\")\n",
        "\n",
        "    return True\n",
        "\n"
      ],
      "metadata": {
        "id": "NsfERKGN27_o"
      },
      "execution_count": 27,
      "outputs": []
    },
    {
      "cell_type": "code",
      "source": [
        "# Solve pytube issue: https://github.com/pytube/pytube/issues/1498\n",
        "import re\n",
        "import mock\n",
        "\n",
        "from pytube.cipher import get_throttling_function_code\n",
        "\n",
        "def patched_throttling_plan(js: str):\n",
        "    \"\"\"Patch throttling plan, from https://github.com/pytube/pytube/issues/1498\"\"\"\n",
        "    raw_code = get_throttling_function_code(js)\n",
        "\n",
        "    transform_start = r\"try{\"\n",
        "    plan_regex = re.compile(transform_start)\n",
        "    match = plan_regex.search(raw_code)\n",
        "\n",
        "    #transform_plan_raw = find_object_from_startpoint(raw_code, match.span()[1] - 1)\n",
        "    transform_plan_raw = js\n",
        "\n",
        "    # Steps are either c[x](c[y]) or c[x](c[y],c[z])\n",
        "    step_start = r\"c\\[(\\d+)\\]\\(c\\[(\\d+)\\](,c(\\[(\\d+)\\]))?\\)\"\n",
        "    step_regex = re.compile(step_start)\n",
        "    matches = step_regex.findall(transform_plan_raw)\n",
        "    transform_steps = []\n",
        "    for match in matches:\n",
        "        if match[4] != '':\n",
        "            transform_steps.append((match[0],match[1],match[4]))\n",
        "        else:\n",
        "            transform_steps.append((match[0],match[1]))\n",
        "\n",
        "    return transform_steps\n",
        "\n",
        "def download_youtube_audio(video_url, output_path):\n",
        "  try:\n",
        "    with mock.patch('pytube.cipher.get_throttling_plan', patched_throttling_plan):\n",
        "      import pytube\n",
        "      # Create a YouTube object\n",
        "      yt = pytube.YouTube(video_url)\n",
        "\n",
        "      # Get the highest resolution stream\n",
        "      video_stream = yt.streams.filter(only_audio=True).first()\n",
        "\n",
        "      # Download the audio stream\n",
        "      video_stream.download(output_path=output_path)\n",
        "\n",
        "      # Convert the downloaded file to MP3\n",
        "      mp4_file_path = os.path.join(output_path, video_stream.default_filename)\n",
        "      mp3_file_path = os.path.splitext(mp4_file_path)[0] + \".mp3\"\n",
        "\n",
        "      video_clip = AudioFileClip(mp4_file_path)\n",
        "      video_clip.write_audiofile(mp3_file_path)\n",
        "\n",
        "      # Delete the original MP4 file\n",
        "      os.remove(mp4_file_path)\n",
        "\n",
        "      print(f\"Audio downloaded and saved as {mp3_file_path}\")\n",
        "      return True\n",
        "  except Exception as e:\n",
        "    print(f\"An error occurred: {str(e)}\")\n",
        "    return False"
      ],
      "metadata": {
        "id": "qfbMnZrE5nJ5"
      },
      "execution_count": 7,
      "outputs": []
    },
    {
      "cell_type": "markdown",
      "source": [
        "## Downloading a video from youtube"
      ],
      "metadata": {
        "id": "m9QHvUBFkptH"
      }
    },
    {
      "cell_type": "code",
      "source": [
        "download_youtube_audio(\"https://www.youtube.com/watch?v=KDwnyem8tk4\",\".\")"
      ],
      "metadata": {
        "colab": {
          "base_uri": "https://localhost:8080/"
        },
        "id": "esh3RFnC12Wo",
        "outputId": "f26bdf42-b84d-452e-87fa-75e35e7314fb"
      },
      "execution_count": 66,
      "outputs": [
        {
          "output_type": "stream",
          "name": "stdout",
          "text": [
            "MoviePy - Writing audio in ./Bandeira na Lua dá para ver da Terra Iberê responde!.mp3\n"
          ]
        },
        {
          "output_type": "stream",
          "name": "stderr",
          "text": [
            "                                                                       "
          ]
        },
        {
          "output_type": "stream",
          "name": "stdout",
          "text": [
            "MoviePy - Done.\n",
            "Audio downloaded and saved as ./Bandeira na Lua dá para ver da Terra Iberê responde!.mp3\n"
          ]
        },
        {
          "output_type": "stream",
          "name": "stderr",
          "text": [
            "\r"
          ]
        },
        {
          "output_type": "execute_result",
          "data": {
            "text/plain": [
              "True"
            ]
          },
          "metadata": {},
          "execution_count": 66
        }
      ]
    },
    {
      "cell_type": "markdown",
      "source": [
        "## Splitting audio file in chunks of 29 seconds, with an overlap of 1 second"
      ],
      "metadata": {
        "id": "TH7vVxyVkwfI"
      }
    },
    {
      "cell_type": "code",
      "source": [
        "video = \"Bandeira na Lua dá para ver da Terra Iberê responde!.mp3\""
      ],
      "metadata": {
        "id": "3rLVR7uhobbM"
      },
      "execution_count": 78,
      "outputs": []
    },
    {
      "cell_type": "code",
      "source": [
        "split_mp3(video,\"audio\",29)"
      ],
      "metadata": {
        "colab": {
          "base_uri": "https://localhost:8080/"
        },
        "id": "2339IsQeQWdI",
        "outputId": "8f1b0367-d28a-4b75-994a-302f95057954"
      },
      "execution_count": 71,
      "outputs": [
        {
          "output_type": "stream",
          "name": "stdout",
          "text": [
            "Segment 1 saved as audio/segment_00001.mp3\n",
            "Segment 2 saved as audio/segment_00002.mp3\n",
            "Segment 3 saved as audio/segment_00003.mp3\n",
            "Segment 4 saved as audio/segment_00004.mp3\n",
            "Segment 5 saved as audio/segment_00005.mp3\n",
            "Segment 6 saved as audio/segment_00006.mp3\n",
            "Segment 7 saved as audio/segment_00007.mp3\n",
            "Segment 8 saved as audio/segment_00008.mp3\n",
            "Segment 9 saved as audio/segment_00009.mp3\n",
            "Segment 10 saved as audio/segment_00010.mp3\n",
            "Segment 11 saved as audio/segment_00011.mp3\n",
            "Segment 12 saved as audio/segment_00012.mp3\n",
            "Segment 13 saved as audio/segment_00013.mp3\n",
            "Segment 14 saved as audio/segment_00014.mp3\n",
            "Segment 15 saved as audio/segment_00015.mp3\n",
            "Segment 16 saved as audio/segment_00016.mp3\n",
            "Segment 17 saved as audio/segment_00017.mp3\n",
            "Segment 18 saved as audio/segment_00018.mp3\n",
            "Segment 19 saved as audio/segment_00019.mp3\n",
            "Segment 20 saved as audio/segment_00020.mp3\n",
            "Segment 21 saved as audio/segment_00021.mp3\n",
            "Segment 22 saved as audio/segment_00022.mp3\n",
            "Segment 23 saved as audio/segment_00023.mp3\n",
            "Segment 24 saved as audio/segment_00024.mp3\n",
            "Segment 25 saved as audio/segment_00025.mp3\n",
            "Segment 26 saved as audio/segment_00026.mp3\n",
            "Segment 27 saved as audio/segment_00027.mp3\n",
            "Segment 28 saved as audio/segment_00028.mp3\n",
            "Segment 29 saved as audio/segment_00029.mp3\n",
            "Segment 30 saved as audio/segment_00030.mp3\n",
            "Segment 31 saved as audio/segment_00031.mp3\n",
            "Segment 32 saved as audio/segment_00032.mp3\n",
            "Segment 33 saved as audio/segment_00033.mp3\n",
            "Segment 34 saved as audio/segment_00034.mp3\n",
            "Segment 35 saved as audio/segment_00035.mp3\n",
            "Segment 36 saved as audio/segment_00036.mp3\n",
            "Segment 37 saved as audio/segment_00037.mp3\n",
            "Segment 38 saved as audio/segment_00038.mp3\n",
            "Segment 39 saved as audio/segment_00039.mp3\n",
            "Segment 40 saved as audio/segment_00040.mp3\n",
            "Segment 41 saved as audio/segment_00041.mp3\n",
            "Segment 42 saved as audio/segment_00042.mp3\n",
            "Segment 43 saved as audio/segment_00043.mp3\n",
            "Segment 44 saved as audio/segment_00044.mp3\n",
            "Segment 45 saved as audio/segment_00045.mp3\n",
            "Segment 46 saved as audio/segment_00046.mp3\n",
            "Segment 47 saved as audio/segment_00047.mp3\n",
            "Segment 48 saved as audio/segment_00048.mp3\n",
            "Segment 49 saved as audio/segment_00049.mp3\n",
            "Segment 50 saved as audio/segment_00050.mp3\n",
            "Segment 51 saved as audio/segment_00051.mp3\n",
            "Segment 52 saved as audio/segment_00052.mp3\n",
            "Segment 53 saved as audio/segment_00053.mp3\n"
          ]
        },
        {
          "output_type": "execute_result",
          "data": {
            "text/plain": [
              "True"
            ]
          },
          "metadata": {},
          "execution_count": 71
        }
      ]
    },
    {
      "cell_type": "markdown",
      "source": [
        "## Transcribing Audio\n"
      ],
      "metadata": {
        "id": "ongZH9Tg6bQJ"
      }
    },
    {
      "cell_type": "code",
      "source": [
        "# Running whisper from command line\n",
        "#!whisper \"Comentando comentários  Drauzio Comenta 00.mp3\" --language Portuguese --model medium"
      ],
      "metadata": {
        "id": "80bMzSJr5ZS4"
      },
      "execution_count": null,
      "outputs": []
    },
    {
      "cell_type": "code",
      "source": [
        "import whisper\n",
        "import numpy as np\n",
        "import pandas as pd\n",
        "\n",
        "model = whisper.load_model(\"medium\", device=DEVICE)\n",
        "print(\n",
        "    f\"Model is {'multilingual' if model.is_multilingual else 'English-only'} \"\n",
        "    f\"and has {sum(np.prod(p.shape) for p in model.parameters()):,} parameters.\"\n",
        ")"
      ],
      "metadata": {
        "colab": {
          "base_uri": "https://localhost:8080/"
        },
        "id": "GpLF5vh46jEW",
        "outputId": "ac4724b2-c34b-4f8c-bfdc-144f3cce7f12"
      },
      "execution_count": 31,
      "outputs": [
        {
          "output_type": "stream",
          "name": "stdout",
          "text": [
            "Model is multilingual and has 762,321,920 parameters.\n"
          ]
        }
      ]
    },
    {
      "cell_type": "code",
      "source": [
        "#!rm -r ./audio\n",
        "#!rm ./Comentando*"
      ],
      "metadata": {
        "colab": {
          "base_uri": "https://localhost:8080/"
        },
        "id": "rJMmLRRTlPIJ",
        "outputId": "b7b7fe38-e523-49de-f6f9-4bd994b33cfd"
      },
      "execution_count": 70,
      "outputs": [
        {
          "output_type": "stream",
          "name": "stdout",
          "text": [
            "rm: cannot remove './audio': No such file or directory\n"
          ]
        }
      ]
    },
    {
      "cell_type": "code",
      "source": [
        "def decode_audio(input_directory):\n",
        "  import whisper\n",
        "  import numpy as np\n",
        "\n",
        "  model = whisper.load_model(\"medium\", device=DEVICE)\n",
        "  res = []\n",
        "  for filename in sorted(os.listdir(input_directory)):\n",
        "    if filename.endswith(\".mp3\"):\n",
        "      print(filename)\n",
        "      audio = whisper.load_audio(f\"\"\"{input_directory}/{filename}\"\"\" )\n",
        "      audio = whisper.pad_or_trim(audio)\n",
        "      mel = whisper.log_mel_spectrogram(audio).to(model.device)\n",
        "      options = whisper.DecodingOptions(language=\"pt\")\n",
        "      result = whisper.decode(model, mel, options)\n",
        "      res.append({\n",
        "          'segment': filename,\n",
        "          'text':result.text\n",
        "      })\n",
        "  return res\n"
      ],
      "metadata": {
        "id": "x8XXVNRV9a7x"
      },
      "execution_count": 72,
      "outputs": []
    },
    {
      "cell_type": "code",
      "source": [
        "# print the recognized text\n",
        "decoded = decode_audio(\"./audio\")"
      ],
      "metadata": {
        "colab": {
          "base_uri": "https://localhost:8080/"
        },
        "id": "vtuRb3LJl70g",
        "outputId": "140e6bb9-5474-431a-fb33-12fb5d559e28"
      },
      "execution_count": 73,
      "outputs": [
        {
          "output_type": "stream",
          "name": "stdout",
          "text": [
            "segment_00001.mp3\n",
            "segment_00002.mp3\n",
            "segment_00003.mp3\n",
            "segment_00004.mp3\n",
            "segment_00005.mp3\n",
            "segment_00006.mp3\n",
            "segment_00007.mp3\n",
            "segment_00008.mp3\n",
            "segment_00009.mp3\n",
            "segment_00010.mp3\n",
            "segment_00011.mp3\n",
            "segment_00012.mp3\n",
            "segment_00013.mp3\n",
            "segment_00014.mp3\n",
            "segment_00015.mp3\n",
            "segment_00016.mp3\n",
            "segment_00017.mp3\n",
            "segment_00018.mp3\n",
            "segment_00019.mp3\n",
            "segment_00020.mp3\n",
            "segment_00021.mp3\n",
            "segment_00022.mp3\n",
            "segment_00023.mp3\n",
            "segment_00024.mp3\n",
            "segment_00025.mp3\n",
            "segment_00026.mp3\n",
            "segment_00027.mp3\n",
            "segment_00028.mp3\n",
            "segment_00029.mp3\n",
            "segment_00030.mp3\n",
            "segment_00031.mp3\n",
            "segment_00032.mp3\n",
            "segment_00033.mp3\n",
            "segment_00034.mp3\n",
            "segment_00035.mp3\n",
            "segment_00036.mp3\n",
            "segment_00037.mp3\n",
            "segment_00038.mp3\n",
            "segment_00039.mp3\n",
            "segment_00040.mp3\n",
            "segment_00041.mp3\n",
            "segment_00042.mp3\n",
            "segment_00043.mp3\n",
            "segment_00044.mp3\n",
            "segment_00045.mp3\n",
            "segment_00046.mp3\n",
            "segment_00047.mp3\n",
            "segment_00048.mp3\n",
            "segment_00049.mp3\n",
            "segment_00050.mp3\n",
            "segment_00051.mp3\n",
            "segment_00052.mp3\n",
            "segment_00053.mp3\n"
          ]
        }
      ]
    },
    {
      "cell_type": "code",
      "source": [
        "df = pd.DataFrame(decoded)\n",
        "df.head()"
      ],
      "metadata": {
        "colab": {
          "base_uri": "https://localhost:8080/",
          "height": 206
        },
        "id": "2Ib2PbbF9LjK",
        "outputId": "38a88938-89b2-463d-cd38-ef262d08b484"
      },
      "execution_count": 81,
      "outputs": [
        {
          "output_type": "execute_result",
          "data": {
            "text/plain": [
              "             segment                                               text\n",
              "0  segment_00001.mp3  Iberê, é possível ver aqui da terra, usando um...\n",
              "1  segment_00002.mp3  superpoderes e ele também não era um cavalo. E...\n",
              "2  segment_00003.mp3  bícorns? Vaca? Alce? É que que que como que a ...\n",
              "3  segment_00004.mp3  38 mil anos atrás já existiam seres humanos aí...\n",
              "4  segment_00005.mp3  é o Narval, ele é uma espécie de uma baleia, q..."
            ],
            "text/html": [
              "\n",
              "  <div id=\"df-1cf7c11c-bed4-45ef-9a16-66783f206535\" class=\"colab-df-container\">\n",
              "    <div>\n",
              "<style scoped>\n",
              "    .dataframe tbody tr th:only-of-type {\n",
              "        vertical-align: middle;\n",
              "    }\n",
              "\n",
              "    .dataframe tbody tr th {\n",
              "        vertical-align: top;\n",
              "    }\n",
              "\n",
              "    .dataframe thead th {\n",
              "        text-align: right;\n",
              "    }\n",
              "</style>\n",
              "<table border=\"1\" class=\"dataframe\">\n",
              "  <thead>\n",
              "    <tr style=\"text-align: right;\">\n",
              "      <th></th>\n",
              "      <th>segment</th>\n",
              "      <th>text</th>\n",
              "    </tr>\n",
              "  </thead>\n",
              "  <tbody>\n",
              "    <tr>\n",
              "      <th>0</th>\n",
              "      <td>segment_00001.mp3</td>\n",
              "      <td>Iberê, é possível ver aqui da terra, usando um...</td>\n",
              "    </tr>\n",
              "    <tr>\n",
              "      <th>1</th>\n",
              "      <td>segment_00002.mp3</td>\n",
              "      <td>superpoderes e ele também não era um cavalo. E...</td>\n",
              "    </tr>\n",
              "    <tr>\n",
              "      <th>2</th>\n",
              "      <td>segment_00003.mp3</td>\n",
              "      <td>bícorns? Vaca? Alce? É que que que como que a ...</td>\n",
              "    </tr>\n",
              "    <tr>\n",
              "      <th>3</th>\n",
              "      <td>segment_00004.mp3</td>\n",
              "      <td>38 mil anos atrás já existiam seres humanos aí...</td>\n",
              "    </tr>\n",
              "    <tr>\n",
              "      <th>4</th>\n",
              "      <td>segment_00005.mp3</td>\n",
              "      <td>é o Narval, ele é uma espécie de uma baleia, q...</td>\n",
              "    </tr>\n",
              "  </tbody>\n",
              "</table>\n",
              "</div>\n",
              "    <div class=\"colab-df-buttons\">\n",
              "\n",
              "  <div class=\"colab-df-container\">\n",
              "    <button class=\"colab-df-convert\" onclick=\"convertToInteractive('df-1cf7c11c-bed4-45ef-9a16-66783f206535')\"\n",
              "            title=\"Convert this dataframe to an interactive table.\"\n",
              "            style=\"display:none;\">\n",
              "\n",
              "  <svg xmlns=\"http://www.w3.org/2000/svg\" height=\"24px\" viewBox=\"0 -960 960 960\">\n",
              "    <path d=\"M120-120v-720h720v720H120Zm60-500h600v-160H180v160Zm220 220h160v-160H400v160Zm0 220h160v-160H400v160ZM180-400h160v-160H180v160Zm440 0h160v-160H620v160ZM180-180h160v-160H180v160Zm440 0h160v-160H620v160Z\"/>\n",
              "  </svg>\n",
              "    </button>\n",
              "\n",
              "  <style>\n",
              "    .colab-df-container {\n",
              "      display:flex;\n",
              "      gap: 12px;\n",
              "    }\n",
              "\n",
              "    .colab-df-convert {\n",
              "      background-color: #E8F0FE;\n",
              "      border: none;\n",
              "      border-radius: 50%;\n",
              "      cursor: pointer;\n",
              "      display: none;\n",
              "      fill: #1967D2;\n",
              "      height: 32px;\n",
              "      padding: 0 0 0 0;\n",
              "      width: 32px;\n",
              "    }\n",
              "\n",
              "    .colab-df-convert:hover {\n",
              "      background-color: #E2EBFA;\n",
              "      box-shadow: 0px 1px 2px rgba(60, 64, 67, 0.3), 0px 1px 3px 1px rgba(60, 64, 67, 0.15);\n",
              "      fill: #174EA6;\n",
              "    }\n",
              "\n",
              "    .colab-df-buttons div {\n",
              "      margin-bottom: 4px;\n",
              "    }\n",
              "\n",
              "    [theme=dark] .colab-df-convert {\n",
              "      background-color: #3B4455;\n",
              "      fill: #D2E3FC;\n",
              "    }\n",
              "\n",
              "    [theme=dark] .colab-df-convert:hover {\n",
              "      background-color: #434B5C;\n",
              "      box-shadow: 0px 1px 3px 1px rgba(0, 0, 0, 0.15);\n",
              "      filter: drop-shadow(0px 1px 2px rgba(0, 0, 0, 0.3));\n",
              "      fill: #FFFFFF;\n",
              "    }\n",
              "  </style>\n",
              "\n",
              "    <script>\n",
              "      const buttonEl =\n",
              "        document.querySelector('#df-1cf7c11c-bed4-45ef-9a16-66783f206535 button.colab-df-convert');\n",
              "      buttonEl.style.display =\n",
              "        google.colab.kernel.accessAllowed ? 'block' : 'none';\n",
              "\n",
              "      async function convertToInteractive(key) {\n",
              "        const element = document.querySelector('#df-1cf7c11c-bed4-45ef-9a16-66783f206535');\n",
              "        const dataTable =\n",
              "          await google.colab.kernel.invokeFunction('convertToInteractive',\n",
              "                                                    [key], {});\n",
              "        if (!dataTable) return;\n",
              "\n",
              "        const docLinkHtml = 'Like what you see? Visit the ' +\n",
              "          '<a target=\"_blank\" href=https://colab.research.google.com/notebooks/data_table.ipynb>data table notebook</a>'\n",
              "          + ' to learn more about interactive tables.';\n",
              "        element.innerHTML = '';\n",
              "        dataTable['output_type'] = 'display_data';\n",
              "        await google.colab.output.renderOutput(dataTable, element);\n",
              "        const docLink = document.createElement('div');\n",
              "        docLink.innerHTML = docLinkHtml;\n",
              "        element.appendChild(docLink);\n",
              "      }\n",
              "    </script>\n",
              "  </div>\n",
              "\n",
              "\n",
              "<div id=\"df-263ad2e9-8af9-41b5-b398-e0be7a9747cd\">\n",
              "  <button class=\"colab-df-quickchart\" onclick=\"quickchart('df-263ad2e9-8af9-41b5-b398-e0be7a9747cd')\"\n",
              "            title=\"Suggest charts.\"\n",
              "            style=\"display:none;\">\n",
              "\n",
              "<svg xmlns=\"http://www.w3.org/2000/svg\" height=\"24px\"viewBox=\"0 0 24 24\"\n",
              "     width=\"24px\">\n",
              "    <g>\n",
              "        <path d=\"M19 3H5c-1.1 0-2 .9-2 2v14c0 1.1.9 2 2 2h14c1.1 0 2-.9 2-2V5c0-1.1-.9-2-2-2zM9 17H7v-7h2v7zm4 0h-2V7h2v10zm4 0h-2v-4h2v4z\"/>\n",
              "    </g>\n",
              "</svg>\n",
              "  </button>\n",
              "\n",
              "<style>\n",
              "  .colab-df-quickchart {\n",
              "      --bg-color: #E8F0FE;\n",
              "      --fill-color: #1967D2;\n",
              "      --hover-bg-color: #E2EBFA;\n",
              "      --hover-fill-color: #174EA6;\n",
              "      --disabled-fill-color: #AAA;\n",
              "      --disabled-bg-color: #DDD;\n",
              "  }\n",
              "\n",
              "  [theme=dark] .colab-df-quickchart {\n",
              "      --bg-color: #3B4455;\n",
              "      --fill-color: #D2E3FC;\n",
              "      --hover-bg-color: #434B5C;\n",
              "      --hover-fill-color: #FFFFFF;\n",
              "      --disabled-bg-color: #3B4455;\n",
              "      --disabled-fill-color: #666;\n",
              "  }\n",
              "\n",
              "  .colab-df-quickchart {\n",
              "    background-color: var(--bg-color);\n",
              "    border: none;\n",
              "    border-radius: 50%;\n",
              "    cursor: pointer;\n",
              "    display: none;\n",
              "    fill: var(--fill-color);\n",
              "    height: 32px;\n",
              "    padding: 0;\n",
              "    width: 32px;\n",
              "  }\n",
              "\n",
              "  .colab-df-quickchart:hover {\n",
              "    background-color: var(--hover-bg-color);\n",
              "    box-shadow: 0 1px 2px rgba(60, 64, 67, 0.3), 0 1px 3px 1px rgba(60, 64, 67, 0.15);\n",
              "    fill: var(--button-hover-fill-color);\n",
              "  }\n",
              "\n",
              "  .colab-df-quickchart-complete:disabled,\n",
              "  .colab-df-quickchart-complete:disabled:hover {\n",
              "    background-color: var(--disabled-bg-color);\n",
              "    fill: var(--disabled-fill-color);\n",
              "    box-shadow: none;\n",
              "  }\n",
              "\n",
              "  .colab-df-spinner {\n",
              "    border: 2px solid var(--fill-color);\n",
              "    border-color: transparent;\n",
              "    border-bottom-color: var(--fill-color);\n",
              "    animation:\n",
              "      spin 1s steps(1) infinite;\n",
              "  }\n",
              "\n",
              "  @keyframes spin {\n",
              "    0% {\n",
              "      border-color: transparent;\n",
              "      border-bottom-color: var(--fill-color);\n",
              "      border-left-color: var(--fill-color);\n",
              "    }\n",
              "    20% {\n",
              "      border-color: transparent;\n",
              "      border-left-color: var(--fill-color);\n",
              "      border-top-color: var(--fill-color);\n",
              "    }\n",
              "    30% {\n",
              "      border-color: transparent;\n",
              "      border-left-color: var(--fill-color);\n",
              "      border-top-color: var(--fill-color);\n",
              "      border-right-color: var(--fill-color);\n",
              "    }\n",
              "    40% {\n",
              "      border-color: transparent;\n",
              "      border-right-color: var(--fill-color);\n",
              "      border-top-color: var(--fill-color);\n",
              "    }\n",
              "    60% {\n",
              "      border-color: transparent;\n",
              "      border-right-color: var(--fill-color);\n",
              "    }\n",
              "    80% {\n",
              "      border-color: transparent;\n",
              "      border-right-color: var(--fill-color);\n",
              "      border-bottom-color: var(--fill-color);\n",
              "    }\n",
              "    90% {\n",
              "      border-color: transparent;\n",
              "      border-bottom-color: var(--fill-color);\n",
              "    }\n",
              "  }\n",
              "</style>\n",
              "\n",
              "  <script>\n",
              "    async function quickchart(key) {\n",
              "      const quickchartButtonEl =\n",
              "        document.querySelector('#' + key + ' button');\n",
              "      quickchartButtonEl.disabled = true;  // To prevent multiple clicks.\n",
              "      quickchartButtonEl.classList.add('colab-df-spinner');\n",
              "      try {\n",
              "        const charts = await google.colab.kernel.invokeFunction(\n",
              "            'suggestCharts', [key], {});\n",
              "      } catch (error) {\n",
              "        console.error('Error during call to suggestCharts:', error);\n",
              "      }\n",
              "      quickchartButtonEl.classList.remove('colab-df-spinner');\n",
              "      quickchartButtonEl.classList.add('colab-df-quickchart-complete');\n",
              "    }\n",
              "    (() => {\n",
              "      let quickchartButtonEl =\n",
              "        document.querySelector('#df-263ad2e9-8af9-41b5-b398-e0be7a9747cd button');\n",
              "      quickchartButtonEl.style.display =\n",
              "        google.colab.kernel.accessAllowed ? 'block' : 'none';\n",
              "    })();\n",
              "  </script>\n",
              "</div>\n",
              "    </div>\n",
              "  </div>\n"
            ]
          },
          "metadata": {},
          "execution_count": 81
        }
      ]
    },
    {
      "cell_type": "markdown",
      "source": [
        "# Enter Astra\n",
        "\n",
        "I would use CassIO, but as it doesn;t have the support to analyzers (yet), I will use regular CQL"
      ],
      "metadata": {
        "id": "WubEw7FfcmZu"
      }
    },
    {
      "cell_type": "code",
      "source": [
        "import os\n",
        "from dotenv import find_dotenv, load_dotenv\n",
        "dotenv_file = find_dotenv('.env')\n",
        "load_dotenv(dotenv_file, override=True)"
      ],
      "metadata": {
        "colab": {
          "base_uri": "https://localhost:8080/"
        },
        "id": "JjfIfJuzc8V5",
        "outputId": "8c3f6aca-c468-4a88-921f-5cb7821f85af"
      },
      "execution_count": 82,
      "outputs": [
        {
          "output_type": "execute_result",
          "data": {
            "text/plain": [
              "True"
            ]
          },
          "metadata": {},
          "execution_count": 82
        }
      ]
    },
    {
      "cell_type": "code",
      "source": [
        "#import cassio\n",
        "#cassio.init(token=os.environ[\"ASTRA_DB_APPLICATION_TOKEN\"], database_id=os.environ[\"ASTRA_DB_ID\"])"
      ],
      "metadata": {
        "colab": {
          "base_uri": "https://localhost:8080/"
        },
        "id": "xJRpDpBjQ5z9",
        "outputId": "b5c901ee-6bbe-412d-f110-9ed2991d0f7e"
      },
      "execution_count": 49,
      "outputs": [
        {
          "output_type": "stream",
          "name": "stderr",
          "text": [
            "WARNING:cassandra.cluster:Downgrading core protocol version from 66 to 65 for b0748576-a92d-4682-86b0-13a0a04fb4dd-us-east1.db.astra.datastax.com:29042:e92b9c1c-6c60-4f91-8742-1c43b0145d22. To avoid this, it is best practice to explicitly set Cluster(protocol_version) to the version supported by your cluster. http://datastax.github.io/python-driver/api/cassandra/cluster.html#cassandra.cluster.Cluster.protocol_version\n",
            "WARNING:cassandra.cluster:Downgrading core protocol version from 65 to 5 for b0748576-a92d-4682-86b0-13a0a04fb4dd-us-east1.db.astra.datastax.com:29042:e92b9c1c-6c60-4f91-8742-1c43b0145d22. To avoid this, it is best practice to explicitly set Cluster(protocol_version) to the version supported by your cluster. http://datastax.github.io/python-driver/api/cassandra/cluster.html#cassandra.cluster.Cluster.protocol_version\n",
            "ERROR:cassandra.connection:Closing connection <AsyncoreConnection(133345985551744) b0748576-a92d-4682-86b0-13a0a04fb4dd-us-east1.db.astra.datastax.com:29042:e92b9c1c-6c60-4f91-8742-1c43b0145d22> due to protocol error: Error from server: code=000a [Protocol error] message=\"Beta version of the protocol used (5/v5-beta), but USE_BETA flag is unset\"\n",
            "WARNING:cassandra.cluster:Downgrading core protocol version from 5 to 4 for b0748576-a92d-4682-86b0-13a0a04fb4dd-us-east1.db.astra.datastax.com:29042:e92b9c1c-6c60-4f91-8742-1c43b0145d22. To avoid this, it is best practice to explicitly set Cluster(protocol_version) to the version supported by your cluster. http://datastax.github.io/python-driver/api/cassandra/cluster.html#cassandra.cluster.Cluster.protocol_version\n"
          ]
        }
      ]
    },
    {
      "cell_type": "code",
      "source": [
        "# Astra Connection (Based on cqlsession, from cassio library)\n",
        "import os\n",
        "from cassandra.cluster import (\n",
        "    Cluster,\n",
        ")\n",
        "from cassandra.auth import PlainTextAuthProvider\n",
        "from cassandra.query import dict_factory\n",
        "\n",
        "def getCQLSession(mode='astra_db'):\n",
        "    print('Initializing CQL Session')\n",
        "    if mode == 'astra_db':\n",
        "        cluster = Cluster(\n",
        "            cloud={\n",
        "                \"secure_connect_bundle\": os.environ[\"ASTRA_DB_SECURE_BUNDLE_PATH\"],\n",
        "            },\n",
        "            auth_provider=PlainTextAuthProvider(\n",
        "                os.environ[\"ASTRA_DB_CLIENT_ID\"],\n",
        "                os.environ[\"ASTRA_DB_CLIENT_SECRET\"],\n",
        "            ),\n",
        "        )\n",
        "        astraSession = cluster.connect(os.environ[\"ASTRA_DB_KEYSPACE\"])\n",
        "        astraSession.row_factory = dict_factory\n",
        "        print('Connected')\n",
        "        return astraSession\n",
        "    elif mode == 'local':\n",
        "        cluster = Cluster()\n",
        "        localSession = cluster.connect()\n",
        "        return localSession\n",
        "    else:\n",
        "        raise ValueError('Unknown CQL Session mode')\n",
        "\n",
        "def getCQLKeyspace(mode='astra_db'):\n",
        "    return os.environ[\"ASTRA_DB_KEYSPACE\"]\n"
      ],
      "metadata": {
        "id": "6B4jjbZVeegb"
      },
      "execution_count": 62,
      "outputs": []
    },
    {
      "cell_type": "code",
      "source": [
        "# Open the cennection with Astra\n",
        "session = getCQLSession()"
      ],
      "metadata": {
        "colab": {
          "base_uri": "https://localhost:8080/"
        },
        "id": "W3CoeSeyghby",
        "outputId": "c8fdafe2-f4ed-4e25-b7cd-7ab48f36388e"
      },
      "execution_count": 63,
      "outputs": [
        {
          "output_type": "stream",
          "name": "stdout",
          "text": [
            "Initializing CQL Session\n"
          ]
        },
        {
          "output_type": "stream",
          "name": "stderr",
          "text": [
            "WARNING:cassandra.cluster:Downgrading core protocol version from 66 to 65 for b0748576-a92d-4682-86b0-13a0a04fb4dd-us-east1.db.astra.datastax.com:29042:05d703a1-936c-48cc-9ed8-c195f51b1c07. To avoid this, it is best practice to explicitly set Cluster(protocol_version) to the version supported by your cluster. http://datastax.github.io/python-driver/api/cassandra/cluster.html#cassandra.cluster.Cluster.protocol_version\n",
            "WARNING:cassandra.cluster:Downgrading core protocol version from 65 to 5 for b0748576-a92d-4682-86b0-13a0a04fb4dd-us-east1.db.astra.datastax.com:29042:05d703a1-936c-48cc-9ed8-c195f51b1c07. To avoid this, it is best practice to explicitly set Cluster(protocol_version) to the version supported by your cluster. http://datastax.github.io/python-driver/api/cassandra/cluster.html#cassandra.cluster.Cluster.protocol_version\n",
            "ERROR:cassandra.connection:Closing connection <AsyncoreConnection(133345537501904) b0748576-a92d-4682-86b0-13a0a04fb4dd-us-east1.db.astra.datastax.com:29042:05d703a1-936c-48cc-9ed8-c195f51b1c07> due to protocol error: Error from server: code=000a [Protocol error] message=\"Beta version of the protocol used (5/v5-beta), but USE_BETA flag is unset\"\n",
            "WARNING:cassandra.cluster:Downgrading core protocol version from 5 to 4 for b0748576-a92d-4682-86b0-13a0a04fb4dd-us-east1.db.astra.datastax.com:29042:05d703a1-936c-48cc-9ed8-c195f51b1c07. To avoid this, it is best practice to explicitly set Cluster(protocol_version) to the version supported by your cluster. http://datastax.github.io/python-driver/api/cassandra/cluster.html#cassandra.cluster.Cluster.protocol_version\n"
          ]
        },
        {
          "output_type": "stream",
          "name": "stdout",
          "text": [
            "Connected\n"
          ]
        }
      ]
    },
    {
      "cell_type": "code",
      "source": [
        "keyspace = os.environ[\"ASTRA_DB_KEYSPACE\"]\n",
        "table = f\"\"\"yt_audio_texts\"\"\"\n",
        "from cassandra.cqlengine.query import BatchStatement\n",
        "from cassandra.query import BatchType\n",
        "\n",
        "\n",
        "cmd_create_table = f\"\"\"CREATE TABLE IF NOT EXISTS {table} (\n",
        "    id text,\n",
        "    decoded text,\n",
        "    embedding vector<float, 1536>,\n",
        "    PRIMARY KEY (id)\n",
        ")\"\"\"\n",
        "\n",
        "cmd_create_ix_vector = f\"\"\"CREATE CUSTOM INDEX IF NOT EXISTS {table}_emb ON {table} (embedding)\n",
        "USING 'org.apache.cassandra.index.sai.StorageAttachedIndex' WITH OPTIONS = {{'similarity_function': 'DOT_PRODUCT' }}\"\"\"\n",
        "\n",
        "cmd_create_ix_analyzer = f\"\"\"CREATE CUSTOM INDEX IF NOT EXISTS {table}_an ON {table} (decoded)\n",
        "USING 'org.apache.cassandra.index.sai.StorageAttachedIndex'WITH OPTIONS = {{ 'index_analyzer': 'standard', 'case_sensitive': false}}\"\"\""
      ],
      "metadata": {
        "id": "Z_Y4Z9vnglAK"
      },
      "execution_count": 64,
      "outputs": []
    },
    {
      "cell_type": "code",
      "source": [
        "session.execute(cmd_create_table)\n",
        "session.execute(cmd_create_ix_vector)\n",
        "session.execute(cmd_create_ix_analyzer)"
      ],
      "metadata": {
        "colab": {
          "base_uri": "https://localhost:8080/"
        },
        "id": "MRAIbVHfitRV",
        "outputId": "97d17899-b62c-4a56-9f66-76516373bab0"
      },
      "execution_count": 65,
      "outputs": [
        {
          "output_type": "execute_result",
          "data": {
            "text/plain": [
              "<cassandra.cluster.ResultSet at 0x794711085300>"
            ]
          },
          "metadata": {},
          "execution_count": 65
        }
      ]
    },
    {
      "cell_type": "code",
      "source": [
        "cmd_insert = f\"\"\"\n",
        "INSERT INTO {table}  (id, decoded, embedding)\n",
        "VALUES (:id, :decoded, :embedding)\n",
        "\"\"\"\n",
        "prepared_stmt = session.prepare(cmd_insert)"
      ],
      "metadata": {
        "id": "jbIPPlMAn8zo"
      },
      "execution_count": 77,
      "outputs": []
    },
    {
      "cell_type": "code",
      "source": [
        "import openai\n",
        "openai.api_key = os.environ[\"OPENAI_API_KEY\"]\n",
        "def generate_embedding(text):\n",
        "    model = \"text-embedding-ada-002\"\n",
        "    response = openai.Embedding.create(model=model, input=text)\n",
        "    return response.data[0]['embedding']"
      ],
      "metadata": {
        "id": "Rlfm96cgjD58"
      },
      "execution_count": 89,
      "outputs": []
    },
    {
      "cell_type": "code",
      "source": [
        "# Generating embeddings\n",
        "for index, row in df.iterrows():\n",
        "  session.execute(prepared_stmt,{'id': f\"\"\"{video}_{index}\"\"\", 'decoded': row[\"text\"], 'embedding': generate_embedding(row[\"text\"],)})"
      ],
      "metadata": {
        "id": "AsmnYarXnv3J"
      },
      "execution_count": 94,
      "outputs": []
    },
    {
      "cell_type": "markdown",
      "source": [
        "# Searching mentions to the planet Saturn\n",
        "\n",
        "In the case we want to find mentions to an specific term, like a product, the analyzer works better then the embeddings.\n",
        "\n",
        "Lets search for mentions to the planet Saturn"
      ],
      "metadata": {
        "id": "x6X26wP1s21R"
      }
    },
    {
      "cell_type": "code",
      "source": [
        "# Query with parameter\n",
        "cmd_select_1 = f\"\"\"\n",
        "select id, decoded from {table}\n",
        "where decoded : :query\n",
        "limit 5;\n",
        "\"\"\"\n",
        "prepared_select_1 = session.prepare(cmd_select_1)\n",
        "rs = session.execute(prepared_select_1,{\"query\": \"saturno\"})\n",
        "list(rs)"
      ],
      "metadata": {
        "colab": {
          "base_uri": "https://localhost:8080/"
        },
        "id": "ecXg9tPqrZDK",
        "outputId": "c43ce8a5-62d2-4e77-c1ee-bf29fe090fc3"
      },
      "execution_count": 116,
      "outputs": [
        {
          "output_type": "execute_result",
          "data": {
            "text/plain": [
              "[{'id': 'Bandeira na Lua dá para ver da Terra Iberê responde!.mp3_31',\n",
              "  'decoded': 'diferentes em volta de Saturno. Então, se tem meio que umas rodovias gigantes em volta de Saturno, girando em velocidades diferentes, é uma coisa bem maluca. A gente não sabe exatamente como eles se formaram, mas as hipóteses aí são de que uma lua se chocou com a outra, acabou ficando em órbita em volta de Saturno, ou um cometa, um asteroide que formou aquela poeira que a gente vê ali, que de longe é muito bonito. Quem viu primeiro esses anéis foi Galileu em mil seiscentos e dez. E é muito legal porque ele não'},\n",
              " {'id': 'Bandeira na Lua dá para ver da Terra Iberê responde!.mp3_32',\n",
              "  'decoded': 'ver muito bem parecia um planeta com orelhas e ele mesmo usou essa palavra orelhas pra descrever o que ele tava vendo ali. E outra coisa interessante é que não é só Saturno que tem anéis, tá? Júpiter, Urano e Netuno também tem anéis, mas eles não são tão visíveis, assim, eles não são tão elegantes quanto os anéis de Saturno. Felipe, que tá atrás da câmera gravando, acabou de fazer uma pergunta muito boa. Ele perguntou se o lixo espacial não poderia formar um anel no planeta Terra. Até poderia, mas a questão é que o lixo não'},\n",
              " {'id': 'Bandeira na Lua dá para ver da Terra Iberê responde!.mp3_30',\n",
              "  'decoded': 'em cima da pintura do carro e tudo mais. Tem alguns carros elétricos que fizeram isso, mas seria muito mais barato e mais eficiente você botar isso em cima da garagem e depois conectar no carro ou guardar isso numa bateria na casa e depois conectar no carro. E Meredu, o que que são feitos anéis de Saturno? Ah, isso é muito legal, os anéis de Saturno são feitos de gelo e rocha e eles são muito finos, extremamente finos, tem mais ou menos uns dez metros de altura e o mais louco é que são vários anéis, são principalmente sete ali e eles giram em velocidades diferentes em volta'}]"
            ]
          },
          "metadata": {},
          "execution_count": 116
        }
      ]
    },
    {
      "cell_type": "markdown",
      "source": [
        "# Running with similarity\n",
        "\n",
        "Now, lets ask for contents related to Saturn"
      ],
      "metadata": {
        "id": "0mrLl2wWtryz"
      }
    },
    {
      "cell_type": "code",
      "source": [
        "# Query with parameter\n",
        "query = \"Saturno\"\n",
        "\n",
        "cmd_select_2 = f\"\"\"\n",
        "select id, decoded from {table}\n",
        "ORDER BY embedding ANN OF :embedding\n",
        "limit 5;\n",
        "\"\"\"\n",
        "prepared_select_2 = session.prepare(cmd_select_2)\n",
        "rs = session.execute(prepared_select_2,{\"embedding\": generate_embedding(query)})\n",
        "list(rs)"
      ],
      "metadata": {
        "colab": {
          "base_uri": "https://localhost:8080/"
        },
        "id": "X5ebFaaMrxqJ",
        "outputId": "6af56603-f66e-4bc2-ee83-a94f2cfc171f"
      },
      "execution_count": 117,
      "outputs": [
        {
          "output_type": "execute_result",
          "data": {
            "text/plain": [
              "[{'id': 'Bandeira na Lua dá para ver da Terra Iberê responde!.mp3_32',\n",
              "  'decoded': 'ver muito bem parecia um planeta com orelhas e ele mesmo usou essa palavra orelhas pra descrever o que ele tava vendo ali. E outra coisa interessante é que não é só Saturno que tem anéis, tá? Júpiter, Urano e Netuno também tem anéis, mas eles não são tão visíveis, assim, eles não são tão elegantes quanto os anéis de Saturno. Felipe, que tá atrás da câmera gravando, acabou de fazer uma pergunta muito boa. Ele perguntou se o lixo espacial não poderia formar um anel no planeta Terra. Até poderia, mas a questão é que o lixo não'},\n",
              " {'id': 'Bandeira na Lua dá para ver da Terra Iberê responde!.mp3_31',\n",
              "  'decoded': 'diferentes em volta de Saturno. Então, se tem meio que umas rodovias gigantes em volta de Saturno, girando em velocidades diferentes, é uma coisa bem maluca. A gente não sabe exatamente como eles se formaram, mas as hipóteses aí são de que uma lua se chocou com a outra, acabou ficando em órbita em volta de Saturno, ou um cometa, um asteroide que formou aquela poeira que a gente vê ali, que de longe é muito bonito. Quem viu primeiro esses anéis foi Galileu em mil seiscentos e dez. E é muito legal porque ele não'},\n",
              " {'id': 'Bandeira na Lua dá para ver da Terra Iberê responde!.mp3_30',\n",
              "  'decoded': 'em cima da pintura do carro e tudo mais. Tem alguns carros elétricos que fizeram isso, mas seria muito mais barato e mais eficiente você botar isso em cima da garagem e depois conectar no carro ou guardar isso numa bateria na casa e depois conectar no carro. E Meredu, o que que são feitos anéis de Saturno? Ah, isso é muito legal, os anéis de Saturno são feitos de gelo e rocha e eles são muito finos, extremamente finos, tem mais ou menos uns dez metros de altura e o mais louco é que são vários anéis, são principalmente sete ali e eles giram em velocidades diferentes em volta'},\n",
              " {'id': 'Bandeira na Lua dá para ver da Terra Iberê responde!.mp3_26',\n",
              "  'decoded': 'GPS, um sistema de internet de satélite, telecomunicações, tudo mais, que a gente depende de satélite pra isso, vai ser prejudicado sem falar em todas as nossas pesquisas, viagens internacionais, viagens internacionais, né? Inter, eh, interplanetária, só iria só pra Marte, mas pra lua, como tô falando, viagem espaciais, sem entender, seriam prejudicados. Iberê, você acha que um dia vão existir carros, ônibus, etc, movidos a luz solar? Mas, então, a gente tem que tomar cuidado com esse movido a luz solar. Cê tá'},\n",
              " {'id': 'Bandeira na Lua dá para ver da Terra Iberê responde!.mp3_50',\n",
              "  'decoded': 'reconhecimento lunar, que em português não dá pra entender nada, né? Que é um objeto que gira em volta da lua, tem uma série de instrumentos pra reconhecer, pra estudar a lua, entre eles um microscópio, um telescópio, uma super câmera que fica tirando fotos da lua e que encontrou essas missões que estão abandonadas lá ou esses restos de missões lunares. Nessas fotos, cê consegue ver claramente o resto da nave que ficou, cê consegue ver a pegada dos astronautas e cê consegue'}]"
            ]
          },
          "metadata": {},
          "execution_count": 117
        }
      ]
    },
    {
      "cell_type": "markdown",
      "source": [
        "In this case, more information related to Saturn was retrieved\n",
        "\n",
        "# Combining both\n",
        "\n",
        "Ln this case, I have only three records mentioning Saturn, but if I have to choose only one record we can combine both\n"
      ],
      "metadata": {
        "id": "nzKVu5MXuPNd"
      }
    },
    {
      "cell_type": "code",
      "source": [
        "# Query with parameter\n",
        "query = \"Saturno\"\n",
        "\n",
        "cmd_select_3 = f\"\"\"\n",
        "select id, decoded from {table}\n",
        "where decoded : :query\n",
        "ORDER BY embedding ANN OF :embedding\n",
        "limit 1;\n",
        "\"\"\"\n",
        "prepared_select_3 = session.prepare(cmd_select_3)\n",
        "rs = session.execute(prepared_select_3,{\"query\":query , \"embedding\": generate_embedding(query)})\n",
        "list(rs)"
      ],
      "metadata": {
        "colab": {
          "base_uri": "https://localhost:8080/"
        },
        "id": "UcWV6a04t-k-",
        "outputId": "9294c9f3-93f4-43fa-8b4f-e72f6d07c3b2"
      },
      "execution_count": 119,
      "outputs": [
        {
          "output_type": "execute_result",
          "data": {
            "text/plain": [
              "[{'id': 'Bandeira na Lua dá para ver da Terra Iberê responde!.mp3_32',\n",
              "  'decoded': 'ver muito bem parecia um planeta com orelhas e ele mesmo usou essa palavra orelhas pra descrever o que ele tava vendo ali. E outra coisa interessante é que não é só Saturno que tem anéis, tá? Júpiter, Urano e Netuno também tem anéis, mas eles não são tão visíveis, assim, eles não são tão elegantes quanto os anéis de Saturno. Felipe, que tá atrás da câmera gravando, acabou de fazer uma pergunta muito boa. Ele perguntou se o lixo espacial não poderia formar um anel no planeta Terra. Até poderia, mas a questão é que o lixo não'}]"
            ]
          },
          "metadata": {},
          "execution_count": 119
        }
      ]
    },
    {
      "cell_type": "code",
      "source": [],
      "metadata": {
        "id": "LLTh2crnvgiH"
      },
      "execution_count": null,
      "outputs": []
    }
  ]
}